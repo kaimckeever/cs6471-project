{
 "cells": [
  {
   "cell_type": "markdown",
   "id": "b1354824",
   "metadata": {},
   "source": [
    "### Sparse Additive Generative Model Analysis\n",
    "\n",
    "Inspired from https://github.com/jacobeisenstein/SAGE/tree/master/py-sage and adapted to our data."
   ]
  },
  {
   "cell_type": "code",
   "execution_count": 1,
   "id": "8ff8b69d",
   "metadata": {},
   "outputs": [],
   "source": [
    "%load_ext autoreload\n",
    "%autoreload 2"
   ]
  },
  {
   "cell_type": "code",
   "execution_count": 2,
   "id": "f053004d",
   "metadata": {},
   "outputs": [
    {
     "name": "stdout",
     "output_type": "stream",
     "text": [
      "Add root path to system path:  D:\\Projects\\CSS\\cs6471-project\n"
     ]
    }
   ],
   "source": [
    "import os\n",
    "import sys\n",
    "module_path = os.path.dirname(os.path.dirname(os.path.abspath(os.path.join('.'))))\n",
    "if module_path not in sys.path:\n",
    "    print('Add root path to system path: ', module_path)\n",
    "    sys.path.append(module_path)\n",
    "module_path += '/'"
   ]
  },
  {
   "cell_type": "code",
   "execution_count": 3,
   "id": "9992534c",
   "metadata": {},
   "outputs": [],
   "source": [
    "import sage\n",
    "from collections import Counter\n",
    "import numpy as np\n",
    "import matplotlib.pyplot as plt\n",
    "import pandas as pd\n",
    "%matplotlib inline"
   ]
  },
  {
   "cell_type": "code",
   "execution_count": 16,
   "id": "975284f2",
   "metadata": {},
   "outputs": [],
   "source": [
    "def getCountDictFromDataframe(df):\n",
    "    \"\"\"\n",
    "    Build word count dictionaries from a pandas dataframe\n",
    "    \"\"\"\n",
    "    res = {}\n",
    "    for idx in range(len(df)):\n",
    "        line = df.iloc[idx].text.lower()\n",
    "        curr_line = line.split()\n",
    "        for word in curr_line:\n",
    "            if word not in res.keys():\n",
    "                res[word] = 1\n",
    "            else:\n",
    "                res[word] += 1\n",
    "    return res\n"
   ]
  },
  {
   "cell_type": "code",
   "execution_count": 17,
   "id": "25508cff",
   "metadata": {},
   "outputs": [
    {
     "name": "stdout",
     "output_type": "stream",
     "text": [
      "(10592, 2)\n"
     ]
    }
   ],
   "source": [
    "off_df = pd.read_csv('./../../data/offenseval_train.csv')\n",
    "print(off_df.shape)"
   ]
  },
  {
   "cell_type": "code",
   "execution_count": 18,
   "id": "4280f779",
   "metadata": {},
   "outputs": [
    {
     "name": "stdout",
     "output_type": "stream",
     "text": [
      "(7107, 2)\n",
      "(3485, 2)\n"
     ]
    }
   ],
   "source": [
    "off_df_0 = off_df.loc[off_df['label']==0].reset_index(drop=True)\n",
    "off_df_1 = off_df.loc[off_df['label']==1].reset_index(drop=True)\n",
    "print(off_df_0.shape)\n",
    "print(off_df_1.shape)"
   ]
  },
  {
   "cell_type": "code",
   "execution_count": 19,
   "id": "c8ab3dd7",
   "metadata": {},
   "outputs": [
    {
     "name": "stdout",
     "output_type": "stream",
     "text": [
      "Wall time: 2.09 s\n"
     ]
    }
   ],
   "source": [
    "%%time\n",
    "off_counts_all = getCountDictFromDataframe(off_df)\n",
    "off_counts_0 = getCountDictFromDataframe(off_df_0)\n",
    "off_counts_1 = getCountDictFromDataframe(off_df_1)"
   ]
  },
  {
   "cell_type": "code",
   "execution_count": 20,
   "id": "9724502f",
   "metadata": {},
   "outputs": [
    {
     "name": "stdout",
     "output_type": "stream",
     "text": [
      "5000\n"
     ]
    }
   ],
   "source": [
    "vocab_length = 5000\n",
    "vocab = [word for word, count in Counter(off_counts_1).most_common(vocab_length)]\n",
    "print(len(vocab))"
   ]
  },
  {
   "cell_type": "code",
   "execution_count": 21,
   "id": "dbed4830",
   "metadata": {},
   "outputs": [],
   "source": [
    "x_child = np.array([off_counts_1[word] for word in vocab])\n",
    "x_base = np.array([off_counts_all[word] for word in vocab]) + 1."
   ]
  },
  {
   "cell_type": "code",
   "execution_count": 22,
   "id": "35da3bf0",
   "metadata": {},
   "outputs": [],
   "source": [
    "mu = np.log(x_base) - np.log(x_base.sum())"
   ]
  },
  {
   "cell_type": "code",
   "execution_count": 23,
   "id": "6e0402b7",
   "metadata": {},
   "outputs": [
    {
     "name": "stdout",
     "output_type": "stream",
     "text": [
      "Wall time: 4.16 s\n"
     ]
    }
   ],
   "source": [
    "%%time\n",
    "eta = sage.estimate(x_child,mu)"
   ]
  },
  {
   "cell_type": "code",
   "execution_count": 24,
   "id": "e5880ad4",
   "metadata": {},
   "outputs": [
    {
     "name": "stdout",
     "output_type": "stream",
     "text": [
      "['bitch', 'fuck', 'idiot', 'shit', 'stupid', 'fucking', 'sucks', 'ass', 'shit.', 'disgusting']\n"
     ]
    }
   ],
   "source": [
    "print(sage.topK(eta,vocab))"
   ]
  },
  {
   "cell_type": "code",
   "execution_count": 25,
   "id": "554f48a2",
   "metadata": {},
   "outputs": [
    {
     "name": "stdout",
     "output_type": "stream",
     "text": [
      "['brexit', ':red_heart:', 'join', 'labour', 'here.', ':face_blowing_a_kiss:', 'safe', ':thumbs_up:', ':smiling_face_with_smiling_eyes:', 'is!']\n"
     ]
    }
   ],
   "source": [
    "print(sage.topK(-eta,vocab))"
   ]
  },
  {
   "cell_type": "code",
   "execution_count": 26,
   "id": "49798c16",
   "metadata": {},
   "outputs": [
    {
     "data": {
      "image/png": "[encoded data removed]",
      "text/plain": [
       "<Figure size 432x288 with 1 Axes>"
      ]
     },
     "metadata": {
      "needs_background": "light"
     },
     "output_type": "display_data"
    }
   ],
   "source": [
    "plt.hist(eta,20);"
   ]
  },
  {
   "cell_type": "code",
   "execution_count": 27,
   "id": "43d7dc1e",
   "metadata": {},
   "outputs": [
    {
     "data": {
      "image/png": "[encoded data removed]",
      "text/plain": [
       "<Figure size 432x288 with 1 Axes>"
      ]
     },
     "metadata": {
      "needs_background": "light"
     },
     "output_type": "display_data"
    }
   ],
   "source": [
    "plt.plot(sorted(eta));"
   ]
  },
  {
   "cell_type": "code",
   "execution_count": null,
   "id": "979f7852",
   "metadata": {},
   "outputs": [],
   "source": []
  },
  {
   "cell_type": "code",
   "execution_count": null,
   "id": "c87076a9",
   "metadata": {},
   "outputs": [],
   "source": []
  },
  {
   "cell_type": "code",
   "execution_count": null,
   "id": "58b0c656",
   "metadata": {},
   "outputs": [],
   "source": []
  }
 ],
 "metadata": {
  "kernelspec": {
   "display_name": "Python 3 (ipykernel)",
   "language": "python",
   "name": "python3"
  },
  "language_info": {
   "codemirror_mode": {
    "name": "ipython",
    "version": 3
   },
   "file_extension": ".py",
   "mimetype": "text/x-python",
   "name": "python",
   "nbconvert_exporter": "python",
   "pygments_lexer": "ipython3",
   "version": "3.7.11"
  }
 },
 "nbformat": 4,
 "nbformat_minor": 5
}
