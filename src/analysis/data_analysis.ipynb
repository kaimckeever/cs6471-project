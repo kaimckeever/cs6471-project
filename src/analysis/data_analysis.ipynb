{
 "cells": [
  {
   "cell_type": "code",
   "execution_count": 1,
   "metadata": {},
   "outputs": [],
   "source": [
    "%load_ext autoreload\n",
    "%autoreload 2"
   ]
  },
  {
   "cell_type": "code",
   "execution_count": 2,
   "metadata": {},
   "outputs": [
    {
     "name": "stdout",
     "output_type": "stream",
     "text": [
      "Add root path to system path:  D:\\Projets\\Georgia Tech\\Comp Social Science\\cs6471-project\n"
     ]
    }
   ],
   "source": [
    "import os\n",
    "import sys\n",
    "module_path = os.path.dirname(os.path.dirname(os.path.abspath(os.path.join('.'))))\n",
    "if module_path not in sys.path:\n",
    "    print('Add root path to system path: ', module_path)\n",
    "    sys.path.append(module_path)\n",
    "module_path += '/'"
   ]
  },
  {
   "cell_type": "code",
   "execution_count": 3,
   "metadata": {},
   "outputs": [],
   "source": [
    "import numpy as np\n",
    "import pandas as pd\n",
    "import matplotlib.pyplot as plt"
   ]
  },
  {
   "cell_type": "markdown",
   "metadata": {},
   "source": [
    "# Exploratory Data Analysis"
   ]
  },
  {
   "cell_type": "markdown",
   "metadata": {},
   "source": [
    "## OffensEval"
   ]
  },
  {
   "cell_type": "code",
   "execution_count": 4,
   "metadata": {},
   "outputs": [
    {
     "name": "stdout",
     "output_type": "stream",
     "text": [
      "(13240, 5)\n"
     ]
    },
    {
     "data": {
      "text/html": [
       "<div>\n",
       "<style scoped>\n",
       "    .dataframe tbody tr th:only-of-type {\n",
       "        vertical-align: middle;\n",
       "    }\n",
       "\n",
       "    .dataframe tbody tr th {\n",
       "        vertical-align: top;\n",
       "    }\n",
       "\n",
       "    .dataframe thead th {\n",
       "        text-align: right;\n",
       "    }\n",
       "</style>\n",
       "<table border=\"1\" class=\"dataframe\">\n",
       "  <thead>\n",
       "    <tr style=\"text-align: right;\">\n",
       "      <th></th>\n",
       "      <th>id</th>\n",
       "      <th>tweet</th>\n",
       "      <th>subtask_a</th>\n",
       "      <th>subtask_b</th>\n",
       "      <th>subtask_c</th>\n",
       "    </tr>\n",
       "  </thead>\n",
       "  <tbody>\n",
       "    <tr>\n",
       "      <th>0</th>\n",
       "      <td>86426</td>\n",
       "      <td>@USER She should ask a few native Americans wh...</td>\n",
       "      <td>OFF</td>\n",
       "      <td>UNT</td>\n",
       "      <td>NaN</td>\n",
       "    </tr>\n",
       "    <tr>\n",
       "      <th>1</th>\n",
       "      <td>90194</td>\n",
       "      <td>@USER @USER Go home you’re drunk!!! @USER #MAG...</td>\n",
       "      <td>OFF</td>\n",
       "      <td>TIN</td>\n",
       "      <td>IND</td>\n",
       "    </tr>\n",
       "    <tr>\n",
       "      <th>2</th>\n",
       "      <td>16820</td>\n",
       "      <td>Amazon is investigating Chinese employees who ...</td>\n",
       "      <td>NOT</td>\n",
       "      <td>NaN</td>\n",
       "      <td>NaN</td>\n",
       "    </tr>\n",
       "    <tr>\n",
       "      <th>3</th>\n",
       "      <td>62688</td>\n",
       "      <td>@USER Someone should'veTaken\" this piece of sh...</td>\n",
       "      <td>OFF</td>\n",
       "      <td>UNT</td>\n",
       "      <td>NaN</td>\n",
       "    </tr>\n",
       "    <tr>\n",
       "      <th>4</th>\n",
       "      <td>43605</td>\n",
       "      <td>@USER @USER Obama wanted liberals &amp;amp; illega...</td>\n",
       "      <td>NOT</td>\n",
       "      <td>NaN</td>\n",
       "      <td>NaN</td>\n",
       "    </tr>\n",
       "  </tbody>\n",
       "</table>\n",
       "</div>"
      ],
      "text/plain": [
       "      id                                              tweet subtask_a  \\\n",
       "0  86426  @USER She should ask a few native Americans wh...       OFF   \n",
       "1  90194  @USER @USER Go home you’re drunk!!! @USER #MAG...       OFF   \n",
       "2  16820  Amazon is investigating Chinese employees who ...       NOT   \n",
       "3  62688  @USER Someone should'veTaken\" this piece of sh...       OFF   \n",
       "4  43605  @USER @USER Obama wanted liberals &amp; illega...       NOT   \n",
       "\n",
       "  subtask_b subtask_c  \n",
       "0       UNT       NaN  \n",
       "1       TIN       IND  \n",
       "2       NaN       NaN  \n",
       "3       UNT       NaN  \n",
       "4       NaN       NaN  "
      ]
     },
     "execution_count": 4,
     "metadata": {},
     "output_type": "execute_result"
    }
   ],
   "source": [
    "df_offenseval = pd.read_csv('./../../data/training_data/offenseval-training-v1.tsv', delimiter='\\t')\n",
    "print(df_offenseval.shape)\n",
    "df_offenseval.head()"
   ]
  },
  {
   "cell_type": "code",
   "execution_count": 5,
   "metadata": {},
   "outputs": [
    {
     "name": "stdout",
     "output_type": "stream",
     "text": [
      "(860, 2)\n"
     ]
    },
    {
     "data": {
      "text/html": [
       "<div>\n",
       "<style scoped>\n",
       "    .dataframe tbody tr th:only-of-type {\n",
       "        vertical-align: middle;\n",
       "    }\n",
       "\n",
       "    .dataframe tbody tr th {\n",
       "        vertical-align: top;\n",
       "    }\n",
       "\n",
       "    .dataframe thead th {\n",
       "        text-align: right;\n",
       "    }\n",
       "</style>\n",
       "<table border=\"1\" class=\"dataframe\">\n",
       "  <thead>\n",
       "    <tr style=\"text-align: right;\">\n",
       "      <th></th>\n",
       "      <th>id</th>\n",
       "      <th>tweet</th>\n",
       "    </tr>\n",
       "  </thead>\n",
       "  <tbody>\n",
       "    <tr>\n",
       "      <th>0</th>\n",
       "      <td>15923</td>\n",
       "      <td>#WhoIsQ #WheresTheServer #DumpNike #DECLASFISA...</td>\n",
       "    </tr>\n",
       "    <tr>\n",
       "      <th>1</th>\n",
       "      <td>27014</td>\n",
       "      <td>#ConstitutionDay is revered by Conservatives, ...</td>\n",
       "    </tr>\n",
       "    <tr>\n",
       "      <th>2</th>\n",
       "      <td>30530</td>\n",
       "      <td>#FOXNews #NRA #MAGA #POTUS #TRUMP #2ndAmendmen...</td>\n",
       "    </tr>\n",
       "    <tr>\n",
       "      <th>3</th>\n",
       "      <td>13876</td>\n",
       "      <td>#Watching #Boomer getting the news that she is...</td>\n",
       "    </tr>\n",
       "    <tr>\n",
       "      <th>4</th>\n",
       "      <td>60133</td>\n",
       "      <td>#NoPasaran: Unity demo to oppose the far-right...</td>\n",
       "    </tr>\n",
       "  </tbody>\n",
       "</table>\n",
       "</div>"
      ],
      "text/plain": [
       "      id                                              tweet\n",
       "0  15923  #WhoIsQ #WheresTheServer #DumpNike #DECLASFISA...\n",
       "1  27014  #ConstitutionDay is revered by Conservatives, ...\n",
       "2  30530  #FOXNews #NRA #MAGA #POTUS #TRUMP #2ndAmendmen...\n",
       "3  13876  #Watching #Boomer getting the news that she is...\n",
       "4  60133  #NoPasaran: Unity demo to oppose the far-right..."
      ]
     },
     "execution_count": 5,
     "metadata": {},
     "output_type": "execute_result"
    }
   ],
   "source": [
    "df_offenseval_test = pd.read_csv('./../../data/test_data/testset-levela.tsv', delimiter='\\t')\n",
    "print(df_offenseval_test.shape)\n",
    "df_offenseval_test.head()"
   ]
  },
  {
   "cell_type": "code",
   "execution_count": 6,
   "metadata": {},
   "outputs": [
    {
     "name": "stdout",
     "output_type": "stream",
     "text": [
      "127.1436879432624\n"
     ]
    }
   ],
   "source": [
    "# calculate average post length\n",
    "list_tweets = list(df_offenseval['tweet']) + list(df_offenseval_test['tweet'])\n",
    "print(np.mean([len(tweet) for tweet in list_tweets]))"
   ]
  },
  {
   "cell_type": "code",
   "execution_count": 7,
   "metadata": {},
   "outputs": [
    {
     "data": {
      "image/png": "[encoded data removed]",
      "text/plain": [
       "<Figure size 576x432 with 1 Axes>"
      ]
     },
     "metadata": {
      "needs_background": "light"
     },
     "output_type": "display_data"
    }
   ],
   "source": [
    "title = 'OffensEval'\n",
    "plt.figure(figsize=(8, 6))\n",
    "plt.title('Distribution of the classes for {}'.format(title))\n",
    "plt.hist(df_offenseval['subtask_a'])\n",
    "plt.show()"
   ]
  },
  {
   "cell_type": "code",
   "execution_count": null,
   "metadata": {},
   "outputs": [],
   "source": []
  },
  {
   "cell_type": "markdown",
   "metadata": {},
   "source": [
    "## Implicit Hate"
   ]
  },
  {
   "cell_type": "code",
   "execution_count": 8,
   "metadata": {},
   "outputs": [
    {
     "name": "stdout",
     "output_type": "stream",
     "text": [
      "(21480, 2)\n"
     ]
    },
    {
     "data": {
      "text/html": [
       "<div>\n",
       "<style scoped>\n",
       "    .dataframe tbody tr th:only-of-type {\n",
       "        vertical-align: middle;\n",
       "    }\n",
       "\n",
       "    .dataframe tbody tr th {\n",
       "        vertical-align: top;\n",
       "    }\n",
       "\n",
       "    .dataframe thead th {\n",
       "        text-align: right;\n",
       "    }\n",
       "</style>\n",
       "<table border=\"1\" class=\"dataframe\">\n",
       "  <thead>\n",
       "    <tr style=\"text-align: right;\">\n",
       "      <th></th>\n",
       "      <th>post</th>\n",
       "      <th>class</th>\n",
       "    </tr>\n",
       "  </thead>\n",
       "  <tbody>\n",
       "    <tr>\n",
       "      <th>0</th>\n",
       "      <td>\" : jewish harvard professor noel ignatiev w...</td>\n",
       "      <td>implicit_hate</td>\n",
       "    </tr>\n",
       "    <tr>\n",
       "      <th>1</th>\n",
       "      <td>b.higher education is a part of european cult...</td>\n",
       "      <td>not_hate</td>\n",
       "    </tr>\n",
       "    <tr>\n",
       "      <th>2</th>\n",
       "      <td>has a problem with  \" the whites \" \" and \" \" ...</td>\n",
       "      <td>not_hate</td>\n",
       "    </tr>\n",
       "    <tr>\n",
       "      <th>3</th>\n",
       "      <td>is yasir qadhi a hate preacher for calling ch...</td>\n",
       "      <td>not_hate</td>\n",
       "    </tr>\n",
       "    <tr>\n",
       "      <th>4</th>\n",
       "      <td>rt  \" : how three million germans mass murder...</td>\n",
       "      <td>not_hate</td>\n",
       "    </tr>\n",
       "  </tbody>\n",
       "</table>\n",
       "</div>"
      ],
      "text/plain": [
       "                                                post          class\n",
       "0    \" : jewish harvard professor noel ignatiev w...  implicit_hate\n",
       "1   b.higher education is a part of european cult...       not_hate\n",
       "2   has a problem with  \" the whites \" \" and \" \" ...       not_hate\n",
       "3   is yasir qadhi a hate preacher for calling ch...       not_hate\n",
       "4   rt  \" : how three million germans mass murder...       not_hate"
      ]
     },
     "execution_count": 8,
     "metadata": {},
     "output_type": "execute_result"
    }
   ],
   "source": [
    "df_stg1 = pd.read_csv('./../../data/original_datasets/implicit_hate_v1_stg1_posts.tsv', delimiter='\\t')\n",
    "print(df_stg1.shape)\n",
    "df_stg1.head()"
   ]
  },
  {
   "cell_type": "code",
   "execution_count": 9,
   "metadata": {},
   "outputs": [
    {
     "data": {
      "text/html": [
       "<div>\n",
       "<style scoped>\n",
       "    .dataframe tbody tr th:only-of-type {\n",
       "        vertical-align: middle;\n",
       "    }\n",
       "\n",
       "    .dataframe tbody tr th {\n",
       "        vertical-align: top;\n",
       "    }\n",
       "\n",
       "    .dataframe thead th {\n",
       "        text-align: right;\n",
       "    }\n",
       "</style>\n",
       "<table border=\"1\" class=\"dataframe\">\n",
       "  <thead>\n",
       "    <tr style=\"text-align: right;\">\n",
       "      <th></th>\n",
       "      <th>class</th>\n",
       "    </tr>\n",
       "  </thead>\n",
       "  <tbody>\n",
       "    <tr>\n",
       "      <th>not_hate</th>\n",
       "      <td>13291</td>\n",
       "    </tr>\n",
       "    <tr>\n",
       "      <th>implicit_hate</th>\n",
       "      <td>7100</td>\n",
       "    </tr>\n",
       "    <tr>\n",
       "      <th>explicit_hate</th>\n",
       "      <td>1089</td>\n",
       "    </tr>\n",
       "  </tbody>\n",
       "</table>\n",
       "</div>"
      ],
      "text/plain": [
       "               class\n",
       "not_hate       13291\n",
       "implicit_hate   7100\n",
       "explicit_hate   1089"
      ]
     },
     "execution_count": 9,
     "metadata": {},
     "output_type": "execute_result"
    }
   ],
   "source": [
    "df_stg1.agg({'class': lambda x: x.value_counts()})"
   ]
  },
  {
   "cell_type": "code",
   "execution_count": 10,
   "metadata": {},
   "outputs": [
    {
     "data": {
      "text/plain": [
       "length    89.446555\n",
       "dtype: float64"
      ]
     },
     "execution_count": 10,
     "metadata": {},
     "output_type": "execute_result"
    }
   ],
   "source": [
    "# calculate average post length\n",
    "df_stg1['length'] = df_stg1['post'].apply(len)\n",
    "df_stg1.agg({'length': lambda x: x.mean()})"
   ]
  },
  {
   "cell_type": "code",
   "execution_count": 11,
   "metadata": {},
   "outputs": [
    {
     "data": {
      "text/html": [
       "<div>\n",
       "<style scoped>\n",
       "    .dataframe tbody tr th:only-of-type {\n",
       "        vertical-align: middle;\n",
       "    }\n",
       "\n",
       "    .dataframe tbody tr th {\n",
       "        vertical-align: top;\n",
       "    }\n",
       "\n",
       "    .dataframe thead th {\n",
       "        text-align: right;\n",
       "    }\n",
       "</style>\n",
       "<table border=\"1\" class=\"dataframe\">\n",
       "  <thead>\n",
       "    <tr style=\"text-align: right;\">\n",
       "      <th></th>\n",
       "      <th>post</th>\n",
       "      <th>implicit_class</th>\n",
       "      <th>extra_implicit_class</th>\n",
       "    </tr>\n",
       "  </thead>\n",
       "  <tbody>\n",
       "    <tr>\n",
       "      <th>0</th>\n",
       "      <td>\" : jewish harvard professor noel ignatiev w...</td>\n",
       "      <td>white_grievance</td>\n",
       "      <td>NaN</td>\n",
       "    </tr>\n",
       "    <tr>\n",
       "      <th>1</th>\n",
       "      <td>rt : tune in today's jmt for my interview w /...</td>\n",
       "      <td>irony</td>\n",
       "      <td>NaN</td>\n",
       "    </tr>\n",
       "    <tr>\n",
       "      <th>2</th>\n",
       "      <td>: : hate posters ? you want hate buddy ? read ...</td>\n",
       "      <td>white_grievance</td>\n",
       "      <td>NaN</td>\n",
       "    </tr>\n",
       "    <tr>\n",
       "      <th>3</th>\n",
       "      <td>: hunt for white women : black racist serial k...</td>\n",
       "      <td>stereotypical</td>\n",
       "      <td>NaN</td>\n",
       "    </tr>\n",
       "    <tr>\n",
       "      <th>4</th>\n",
       "      <td>: looks like he was a fan of the islamic jew-h...</td>\n",
       "      <td>stereotypical</td>\n",
       "      <td>NaN</td>\n",
       "    </tr>\n",
       "  </tbody>\n",
       "</table>\n",
       "</div>"
      ],
      "text/plain": [
       "                                                post   implicit_class  \\\n",
       "0    \" : jewish harvard professor noel ignatiev w...  white_grievance   \n",
       "1   rt : tune in today's jmt for my interview w /...            irony   \n",
       "2  : : hate posters ? you want hate buddy ? read ...  white_grievance   \n",
       "3  : hunt for white women : black racist serial k...    stereotypical   \n",
       "4  : looks like he was a fan of the islamic jew-h...    stereotypical   \n",
       "\n",
       "  extra_implicit_class  \n",
       "0                  NaN  \n",
       "1                  NaN  \n",
       "2                  NaN  \n",
       "3                  NaN  \n",
       "4                  NaN  "
      ]
     },
     "execution_count": 11,
     "metadata": {},
     "output_type": "execute_result"
    }
   ],
   "source": [
    "df_stg2 = pd.read_csv('./../../data/original_datasets/implicit_hate_v1_stg2_posts.tsv', delimiter='\\t')\n",
    "df_stg2.head()"
   ]
  },
  {
   "cell_type": "code",
   "execution_count": 12,
   "metadata": {},
   "outputs": [
    {
     "data": {
      "text/html": [
       "<div>\n",
       "<style scoped>\n",
       "    .dataframe tbody tr th:only-of-type {\n",
       "        vertical-align: middle;\n",
       "    }\n",
       "\n",
       "    .dataframe tbody tr th {\n",
       "        vertical-align: top;\n",
       "    }\n",
       "\n",
       "    .dataframe thead th {\n",
       "        text-align: right;\n",
       "    }\n",
       "</style>\n",
       "<table border=\"1\" class=\"dataframe\">\n",
       "  <thead>\n",
       "    <tr style=\"text-align: right;\">\n",
       "      <th></th>\n",
       "      <th>implicit_class</th>\n",
       "    </tr>\n",
       "  </thead>\n",
       "  <tbody>\n",
       "    <tr>\n",
       "      <th>white_grievance</th>\n",
       "      <td>1538</td>\n",
       "    </tr>\n",
       "    <tr>\n",
       "      <th>incitement</th>\n",
       "      <td>1269</td>\n",
       "    </tr>\n",
       "    <tr>\n",
       "      <th>stereotypical</th>\n",
       "      <td>1133</td>\n",
       "    </tr>\n",
       "    <tr>\n",
       "      <th>inferiority</th>\n",
       "      <td>863</td>\n",
       "    </tr>\n",
       "    <tr>\n",
       "      <th>irony</th>\n",
       "      <td>797</td>\n",
       "    </tr>\n",
       "    <tr>\n",
       "      <th>threatening</th>\n",
       "      <td>666</td>\n",
       "    </tr>\n",
       "    <tr>\n",
       "      <th>other</th>\n",
       "      <td>80</td>\n",
       "    </tr>\n",
       "  </tbody>\n",
       "</table>\n",
       "</div>"
      ],
      "text/plain": [
       "                 implicit_class\n",
       "white_grievance            1538\n",
       "incitement                 1269\n",
       "stereotypical              1133\n",
       "inferiority                 863\n",
       "irony                       797\n",
       "threatening                 666\n",
       "other                        80"
      ]
     },
     "execution_count": 12,
     "metadata": {},
     "output_type": "execute_result"
    }
   ],
   "source": [
    "df_stg2.agg({'implicit_class': lambda x: x.value_counts()})"
   ]
  },
  {
   "cell_type": "code",
   "execution_count": 13,
   "metadata": {},
   "outputs": [
    {
     "data": {
      "text/html": [
       "<div>\n",
       "<style scoped>\n",
       "    .dataframe tbody tr th:only-of-type {\n",
       "        vertical-align: middle;\n",
       "    }\n",
       "\n",
       "    .dataframe tbody tr th {\n",
       "        vertical-align: top;\n",
       "    }\n",
       "\n",
       "    .dataframe thead th {\n",
       "        text-align: right;\n",
       "    }\n",
       "</style>\n",
       "<table border=\"1\" class=\"dataframe\">\n",
       "  <thead>\n",
       "    <tr style=\"text-align: right;\">\n",
       "      <th></th>\n",
       "      <th>extra_implicit_class</th>\n",
       "    </tr>\n",
       "  </thead>\n",
       "  <tbody>\n",
       "    <tr>\n",
       "      <th>inferiority</th>\n",
       "      <td>55</td>\n",
       "    </tr>\n",
       "    <tr>\n",
       "      <th>white_grievance</th>\n",
       "      <td>34</td>\n",
       "    </tr>\n",
       "    <tr>\n",
       "      <th>irony</th>\n",
       "      <td>12</td>\n",
       "    </tr>\n",
       "    <tr>\n",
       "      <th>stereotypical</th>\n",
       "      <td>12</td>\n",
       "    </tr>\n",
       "    <tr>\n",
       "      <th>incitement</th>\n",
       "      <td>11</td>\n",
       "    </tr>\n",
       "    <tr>\n",
       "      <th>threatening</th>\n",
       "      <td>6</td>\n",
       "    </tr>\n",
       "  </tbody>\n",
       "</table>\n",
       "</div>"
      ],
      "text/plain": [
       "                 extra_implicit_class\n",
       "inferiority                        55\n",
       "white_grievance                    34\n",
       "irony                              12\n",
       "stereotypical                      12\n",
       "incitement                         11\n",
       "threatening                         6"
      ]
     },
     "execution_count": 13,
     "metadata": {},
     "output_type": "execute_result"
    }
   ],
   "source": [
    "# aggregate additional implicit classes where not NaN\n",
    "df_stg2.agg({'extra_implicit_class': lambda x: x.value_counts()})"
   ]
  },
  {
   "cell_type": "code",
   "execution_count": 14,
   "metadata": {},
   "outputs": [
    {
     "data": {
      "text/html": [
       "<div>\n",
       "<style scoped>\n",
       "    .dataframe tbody tr th:only-of-type {\n",
       "        vertical-align: middle;\n",
       "    }\n",
       "\n",
       "    .dataframe tbody tr th {\n",
       "        vertical-align: top;\n",
       "    }\n",
       "\n",
       "    .dataframe thead th {\n",
       "        text-align: right;\n",
       "    }\n",
       "</style>\n",
       "<table border=\"1\" class=\"dataframe\">\n",
       "  <thead>\n",
       "    <tr style=\"text-align: right;\">\n",
       "      <th></th>\n",
       "      <th>post</th>\n",
       "      <th>target</th>\n",
       "      <th>implied_statement</th>\n",
       "    </tr>\n",
       "  </thead>\n",
       "  <tbody>\n",
       "    <tr>\n",
       "      <th>0</th>\n",
       "      <td>rt  \" white privilege \" \" is when the gun jam...</td>\n",
       "      <td>minority groups</td>\n",
       "      <td>people in minority groups are all in gangs</td>\n",
       "    </tr>\n",
       "    <tr>\n",
       "      <th>1</th>\n",
       "      <td>if you are white in that state watch yourself !</td>\n",
       "      <td>non-white people</td>\n",
       "      <td>non-white people are dangerous</td>\n",
       "    </tr>\n",
       "    <tr>\n",
       "      <th>2</th>\n",
       "      <td>so the 500 % increase in h1b visas ? yeah i'm ...</td>\n",
       "      <td>Immigrants</td>\n",
       "      <td>Immigrants are undesirable</td>\n",
       "    </tr>\n",
       "    <tr>\n",
       "      <th>3</th>\n",
       "      <td>rt antiwhites expose their hatred of white ki...</td>\n",
       "      <td>Anti-whites</td>\n",
       "      <td>Anti-whites hate white people</td>\n",
       "    </tr>\n",
       "    <tr>\n",
       "      <th>4</th>\n",
       "      <td>capitalism  like communism  is an enemy of the...</td>\n",
       "      <td>Capitalists</td>\n",
       "      <td>Capitalists don't like white people.</td>\n",
       "    </tr>\n",
       "  </tbody>\n",
       "</table>\n",
       "</div>"
      ],
      "text/plain": [
       "                                                post            target  \\\n",
       "0   rt  \" white privilege \" \" is when the gun jam...   minority groups   \n",
       "1    if you are white in that state watch yourself !  non-white people   \n",
       "2  so the 500 % increase in h1b visas ? yeah i'm ...        Immigrants   \n",
       "3   rt antiwhites expose their hatred of white ki...       Anti-whites   \n",
       "4  capitalism  like communism  is an enemy of the...       Capitalists   \n",
       "\n",
       "                            implied_statement  \n",
       "0  people in minority groups are all in gangs  \n",
       "1              non-white people are dangerous  \n",
       "2                  Immigrants are undesirable  \n",
       "3               Anti-whites hate white people  \n",
       "4        Capitalists don't like white people.  "
      ]
     },
     "execution_count": 14,
     "metadata": {},
     "output_type": "execute_result"
    }
   ],
   "source": [
    "df_stg3 = pd.read_csv('./../../data/original_datasets/implicit_hate_v1_stg3_posts.tsv', delimiter='\\t')\n",
    "df_stg3.head()"
   ]
  },
  {
   "cell_type": "code",
   "execution_count": 15,
   "metadata": {
    "scrolled": true
   },
   "outputs": [
    {
     "data": {
      "text/html": [
       "<div>\n",
       "<style scoped>\n",
       "    .dataframe tbody tr th:only-of-type {\n",
       "        vertical-align: middle;\n",
       "    }\n",
       "\n",
       "    .dataframe tbody tr th {\n",
       "        vertical-align: top;\n",
       "    }\n",
       "\n",
       "    .dataframe thead th {\n",
       "        text-align: right;\n",
       "    }\n",
       "</style>\n",
       "<table border=\"1\" class=\"dataframe\">\n",
       "  <thead>\n",
       "    <tr style=\"text-align: right;\">\n",
       "      <th></th>\n",
       "      <th>target</th>\n",
       "    </tr>\n",
       "  </thead>\n",
       "  <tbody>\n",
       "    <tr>\n",
       "      <th>Minorities</th>\n",
       "      <td>732</td>\n",
       "    </tr>\n",
       "    <tr>\n",
       "      <th>Immigrants</th>\n",
       "      <td>653</td>\n",
       "    </tr>\n",
       "    <tr>\n",
       "      <th>white people</th>\n",
       "      <td>618</td>\n",
       "    </tr>\n",
       "    <tr>\n",
       "      <th>Muslims</th>\n",
       "      <td>574</td>\n",
       "    </tr>\n",
       "    <tr>\n",
       "      <th>Jews</th>\n",
       "      <td>436</td>\n",
       "    </tr>\n",
       "    <tr>\n",
       "      <th>...</th>\n",
       "      <td>...</td>\n",
       "    </tr>\n",
       "    <tr>\n",
       "      <th>Mexican nationalists</th>\n",
       "      <td>1</td>\n",
       "    </tr>\n",
       "    <tr>\n",
       "      <th>Indian journalists</th>\n",
       "      <td>1</td>\n",
       "    </tr>\n",
       "    <tr>\n",
       "      <th>catholics &amp; jews</th>\n",
       "      <td>1</td>\n",
       "    </tr>\n",
       "    <tr>\n",
       "      <th>Corporate leaders</th>\n",
       "      <td>1</td>\n",
       "    </tr>\n",
       "    <tr>\n",
       "      <th>white police</th>\n",
       "      <td>1</td>\n",
       "    </tr>\n",
       "  </tbody>\n",
       "</table>\n",
       "<p>673 rows × 1 columns</p>\n",
       "</div>"
      ],
      "text/plain": [
       "                      target\n",
       "Minorities               732\n",
       "Immigrants               653\n",
       "white people             618\n",
       "Muslims                  574\n",
       "Jews                     436\n",
       "...                      ...\n",
       "Mexican nationalists       1\n",
       "Indian journalists         1\n",
       "catholics & jews           1\n",
       "Corporate leaders          1\n",
       "white police               1\n",
       "\n",
       "[673 rows x 1 columns]"
      ]
     },
     "execution_count": 15,
     "metadata": {},
     "output_type": "execute_result"
    }
   ],
   "source": [
    "df_stg3.agg({'target': lambda x: x.value_counts()})"
   ]
  },
  {
   "cell_type": "code",
   "execution_count": 16,
   "metadata": {},
   "outputs": [
    {
     "data": {
      "image/png": "[encoded data removed]",
      "text/plain": [
       "<Figure size 576x432 with 1 Axes>"
      ]
     },
     "metadata": {
      "needs_background": "light"
     },
     "output_type": "display_data"
    }
   ],
   "source": [
    "title = 'Implicit Hate'\n",
    "plt.figure(figsize=(8, 6))\n",
    "plt.title('Distribution of the classes for {}'.format(title))\n",
    "plt.hist(df_stg1['class'])\n",
    "plt.show()"
   ]
  },
  {
   "cell_type": "code",
   "execution_count": null,
   "metadata": {},
   "outputs": [],
   "source": []
  },
  {
   "cell_type": "markdown",
   "metadata": {},
   "source": [
    "## COVID Hate"
   ]
  },
  {
   "cell_type": "code",
   "execution_count": 17,
   "metadata": {},
   "outputs": [
    {
     "name": "stdout",
     "output_type": "stream",
     "text": [
      "(2290, 3)\n"
     ]
    },
    {
     "data": {
      "text/html": [
       "<div>\n",
       "<style scoped>\n",
       "    .dataframe tbody tr th:only-of-type {\n",
       "        vertical-align: middle;\n",
       "    }\n",
       "\n",
       "    .dataframe tbody tr th {\n",
       "        vertical-align: top;\n",
       "    }\n",
       "\n",
       "    .dataframe thead th {\n",
       "        text-align: right;\n",
       "    }\n",
       "</style>\n",
       "<table border=\"1\" class=\"dataframe\">\n",
       "  <thead>\n",
       "    <tr style=\"text-align: right;\">\n",
       "      <th></th>\n",
       "      <th>Tweet ID</th>\n",
       "      <th>Text</th>\n",
       "      <th>label</th>\n",
       "    </tr>\n",
       "  </thead>\n",
       "  <tbody>\n",
       "    <tr>\n",
       "      <th>0</th>\n",
       "      <td>1242553623260868608</td>\n",
       "      <td>Are we still allowed to quote ancient Chinese ...</td>\n",
       "      <td>0</td>\n",
       "    </tr>\n",
       "    <tr>\n",
       "      <th>1</th>\n",
       "      <td>1246508137638580225</td>\n",
       "      <td>@mamacat2u @VBeltiz More power to you!  This C...</td>\n",
       "      <td>0</td>\n",
       "    </tr>\n",
       "    <tr>\n",
       "      <th>2</th>\n",
       "      <td>1233468243534372865</td>\n",
       "      <td>CNBC: WHO, Tedros reiterated that the virus co...</td>\n",
       "      <td>0</td>\n",
       "    </tr>\n",
       "    <tr>\n",
       "      <th>3</th>\n",
       "      <td>1243626072387747841</td>\n",
       "      <td>\"The heightened racism experienced by Asian co...</td>\n",
       "      <td>1</td>\n",
       "    </tr>\n",
       "    <tr>\n",
       "      <th>4</th>\n",
       "      <td>1225611530978217989</td>\n",
       "      <td>Coronavirus and Nepali in China: KP Oli has di...</td>\n",
       "      <td>0</td>\n",
       "    </tr>\n",
       "  </tbody>\n",
       "</table>\n",
       "</div>"
      ],
      "text/plain": [
       "              Tweet ID                                               Text  \\\n",
       "0  1242553623260868608  Are we still allowed to quote ancient Chinese ...   \n",
       "1  1246508137638580225  @mamacat2u @VBeltiz More power to you!  This C...   \n",
       "2  1233468243534372865  CNBC: WHO, Tedros reiterated that the virus co...   \n",
       "3  1243626072387747841  \"The heightened racism experienced by Asian co...   \n",
       "4  1225611530978217989  Coronavirus and Nepali in China: KP Oli has di...   \n",
       "\n",
       "   label  \n",
       "0      0  \n",
       "1      0  \n",
       "2      0  \n",
       "3      1  \n",
       "4      0  "
      ]
     },
     "execution_count": 17,
     "metadata": {},
     "output_type": "execute_result"
    }
   ],
   "source": [
    "covid_df = pd.read_csv('./../../data/original_datasets/covid_hate.csv')\n",
    "print(covid_df.shape)\n",
    "covid_df.head()"
   ]
  },
  {
   "cell_type": "code",
   "execution_count": 18,
   "metadata": {},
   "outputs": [
    {
     "data": {
      "text/html": [
       "<div>\n",
       "<style scoped>\n",
       "    .dataframe tbody tr th:only-of-type {\n",
       "        vertical-align: middle;\n",
       "    }\n",
       "\n",
       "    .dataframe tbody tr th {\n",
       "        vertical-align: top;\n",
       "    }\n",
       "\n",
       "    .dataframe thead th {\n",
       "        text-align: right;\n",
       "    }\n",
       "</style>\n",
       "<table border=\"1\" class=\"dataframe\">\n",
       "  <thead>\n",
       "    <tr style=\"text-align: right;\">\n",
       "      <th></th>\n",
       "      <th>label</th>\n",
       "    </tr>\n",
       "  </thead>\n",
       "  <tbody>\n",
       "    <tr>\n",
       "      <th>not_hate</th>\n",
       "      <td>1344</td>\n",
       "    </tr>\n",
       "    <tr>\n",
       "      <th>counterhate</th>\n",
       "      <td>517</td>\n",
       "    </tr>\n",
       "    <tr>\n",
       "      <th>hate</th>\n",
       "      <td>429</td>\n",
       "    </tr>\n",
       "  </tbody>\n",
       "</table>\n",
       "</div>"
      ],
      "text/plain": [
       "             label\n",
       "not_hate      1344\n",
       "counterhate    517\n",
       "hate           429"
      ]
     },
     "execution_count": 18,
     "metadata": {},
     "output_type": "execute_result"
    }
   ],
   "source": [
    "covid_df['label'] = covid_df['label'].replace({0: 'not_hate', 1: 'counterhate', 2: 'hate'})\n",
    "covid_df.agg({'label': lambda x: x.value_counts()})"
   ]
  },
  {
   "cell_type": "code",
   "execution_count": 19,
   "metadata": {},
   "outputs": [
    {
     "data": {
      "text/plain": [
       "length    173.279476\n",
       "dtype: float64"
      ]
     },
     "execution_count": 19,
     "metadata": {},
     "output_type": "execute_result"
    }
   ],
   "source": [
    "# calculate average post length\n",
    "covid_df['length'] = covid_df['Text'].apply(len)\n",
    "covid_df.agg({'length': lambda x: x.mean()})"
   ]
  },
  {
   "cell_type": "code",
   "execution_count": 20,
   "metadata": {},
   "outputs": [
    {
     "data": {
      "image/png": "[encoded data removed]",
      "text/plain": [
       "<Figure size 576x432 with 1 Axes>"
      ]
     },
     "metadata": {
      "needs_background": "light"
     },
     "output_type": "display_data"
    }
   ],
   "source": [
    "title = 'Covid Hate'\n",
    "plt.figure(figsize=(8, 6))\n",
    "plt.title('Distribution of the classes for {}'.format(title))\n",
    "plt.hist(covid_df['label'])\n",
    "plt.show()"
   ]
  },
  {
   "cell_type": "code",
   "execution_count": null,
   "metadata": {},
   "outputs": [],
   "source": []
  },
  {
   "cell_type": "markdown",
   "metadata": {},
   "source": [
    "# SBF"
   ]
  },
  {
   "cell_type": "code",
   "execution_count": 21,
   "metadata": {},
   "outputs": [],
   "source": [
    "# import SBF datasets SBFv2.dev.csv, SBFv2.trn.csv, SBFv2.tst.csv and concatenate them vertically\n",
    "df_sbf_trn = pd.read_csv('./../../data/original_datasets/SBFv2.trn.csv')\n",
    "df_sbf_dev = pd.read_csv('./../../data/original_datasets/SBFv2.dev.csv')"
   ]
  },
  {
   "cell_type": "code",
   "execution_count": 22,
   "metadata": {},
   "outputs": [
    {
     "name": "stdout",
     "output_type": "stream",
     "text": [
      "(129638, 18)\n"
     ]
    },
    {
     "data": {
      "text/html": [
       "<div>\n",
       "<style scoped>\n",
       "    .dataframe tbody tr th:only-of-type {\n",
       "        vertical-align: middle;\n",
       "    }\n",
       "\n",
       "    .dataframe tbody tr th {\n",
       "        vertical-align: top;\n",
       "    }\n",
       "\n",
       "    .dataframe thead th {\n",
       "        text-align: right;\n",
       "    }\n",
       "</style>\n",
       "<table border=\"1\" class=\"dataframe\">\n",
       "  <thead>\n",
       "    <tr style=\"text-align: right;\">\n",
       "      <th></th>\n",
       "      <th>whoTarget</th>\n",
       "      <th>intentYN</th>\n",
       "      <th>sexYN</th>\n",
       "      <th>sexReason</th>\n",
       "      <th>offensiveYN</th>\n",
       "      <th>annotatorGender</th>\n",
       "      <th>annotatorMinority</th>\n",
       "      <th>sexPhrase</th>\n",
       "      <th>speakerMinorityYN</th>\n",
       "      <th>WorkerId</th>\n",
       "      <th>HITId</th>\n",
       "      <th>annotatorPolitics</th>\n",
       "      <th>annotatorRace</th>\n",
       "      <th>annotatorAge</th>\n",
       "      <th>post</th>\n",
       "      <th>targetMinority</th>\n",
       "      <th>targetCategory</th>\n",
       "      <th>targetStereotype</th>\n",
       "    </tr>\n",
       "  </thead>\n",
       "  <tbody>\n",
       "    <tr>\n",
       "      <th>0</th>\n",
       "      <td>0.0</td>\n",
       "      <td>0.66</td>\n",
       "      <td>0.0</td>\n",
       "      <td>NaN</td>\n",
       "      <td>1.0</td>\n",
       "      <td>woman</td>\n",
       "      <td>NaN</td>\n",
       "      <td>NaN</td>\n",
       "      <td>NaN</td>\n",
       "      <td>-8935932304856669427</td>\n",
       "      <td>363A7XIFV4G2799C5V96YERJA9AVAM</td>\n",
       "      <td>liberal</td>\n",
       "      <td>white</td>\n",
       "      <td>45.0</td>\n",
       "      <td>RT @_LexC__: I'm convinced that some of y'all ...</td>\n",
       "      <td>NaN</td>\n",
       "      <td>NaN</td>\n",
       "      <td>NaN</td>\n",
       "    </tr>\n",
       "    <tr>\n",
       "      <th>1</th>\n",
       "      <td>0.0</td>\n",
       "      <td>0.66</td>\n",
       "      <td>0.0</td>\n",
       "      <td>NaN</td>\n",
       "      <td>0.5</td>\n",
       "      <td>man</td>\n",
       "      <td>NaN</td>\n",
       "      <td>NaN</td>\n",
       "      <td>NaN</td>\n",
       "      <td>6347880360297734464</td>\n",
       "      <td>363A7XIFV4G2799C5V96YERJA9AVAM</td>\n",
       "      <td>mod-liberal</td>\n",
       "      <td>white</td>\n",
       "      <td>35.0</td>\n",
       "      <td>RT @_LexC__: I'm convinced that some of y'all ...</td>\n",
       "      <td>NaN</td>\n",
       "      <td>NaN</td>\n",
       "      <td>NaN</td>\n",
       "    </tr>\n",
       "    <tr>\n",
       "      <th>2</th>\n",
       "      <td>0.0</td>\n",
       "      <td>0.33</td>\n",
       "      <td>0.0</td>\n",
       "      <td>NaN</td>\n",
       "      <td>0.5</td>\n",
       "      <td>man</td>\n",
       "      <td>NaN</td>\n",
       "      <td>NaN</td>\n",
       "      <td>NaN</td>\n",
       "      <td>-7452610791699819066</td>\n",
       "      <td>363A7XIFV4G2799C5V96YERJA9AVAM</td>\n",
       "      <td>liberal</td>\n",
       "      <td>asian</td>\n",
       "      <td>23.0</td>\n",
       "      <td>RT @_LexC__: I'm convinced that some of y'all ...</td>\n",
       "      <td>NaN</td>\n",
       "      <td>NaN</td>\n",
       "      <td>NaN</td>\n",
       "    </tr>\n",
       "    <tr>\n",
       "      <th>3</th>\n",
       "      <td>1.0</td>\n",
       "      <td>1.00</td>\n",
       "      <td>0.0</td>\n",
       "      <td>NaN</td>\n",
       "      <td>1.0</td>\n",
       "      <td>man</td>\n",
       "      <td>NaN</td>\n",
       "      <td>NaN</td>\n",
       "      <td>0.0</td>\n",
       "      <td>-500114755446676507</td>\n",
       "      <td>3JTPR5MTZS6RLS3JBV4IOU0G2X35K5</td>\n",
       "      <td>liberal</td>\n",
       "      <td>white</td>\n",
       "      <td>25.0</td>\n",
       "      <td>RT @iBeZo: Stupid fucking nigger LeBron. You f...</td>\n",
       "      <td>black folks</td>\n",
       "      <td>race</td>\n",
       "      <td>all stupid</td>\n",
       "    </tr>\n",
       "    <tr>\n",
       "      <th>4</th>\n",
       "      <td>1.0</td>\n",
       "      <td>1.00</td>\n",
       "      <td>0.0</td>\n",
       "      <td>NaN</td>\n",
       "      <td>1.0</td>\n",
       "      <td>man</td>\n",
       "      <td>NaN</td>\n",
       "      <td>NaN</td>\n",
       "      <td>0.0</td>\n",
       "      <td>-500114755446676507</td>\n",
       "      <td>3JTPR5MTZS6RLS3JBV4IOU0G2X35K5</td>\n",
       "      <td>liberal</td>\n",
       "      <td>white</td>\n",
       "      <td>25.0</td>\n",
       "      <td>RT @iBeZo: Stupid fucking nigger LeBron. You f...</td>\n",
       "      <td>black folks</td>\n",
       "      <td>race</td>\n",
       "      <td>are not people but apes.</td>\n",
       "    </tr>\n",
       "  </tbody>\n",
       "</table>\n",
       "</div>"
      ],
      "text/plain": [
       "   whoTarget  intentYN  sexYN sexReason  offensiveYN annotatorGender  \\\n",
       "0        0.0      0.66    0.0       NaN          1.0           woman   \n",
       "1        0.0      0.66    0.0       NaN          0.5             man   \n",
       "2        0.0      0.33    0.0       NaN          0.5             man   \n",
       "3        1.0      1.00    0.0       NaN          1.0             man   \n",
       "4        1.0      1.00    0.0       NaN          1.0             man   \n",
       "\n",
       "  annotatorMinority sexPhrase  speakerMinorityYN             WorkerId  \\\n",
       "0               NaN       NaN                NaN -8935932304856669427   \n",
       "1               NaN       NaN                NaN  6347880360297734464   \n",
       "2               NaN       NaN                NaN -7452610791699819066   \n",
       "3               NaN       NaN                0.0  -500114755446676507   \n",
       "4               NaN       NaN                0.0  -500114755446676507   \n",
       "\n",
       "                            HITId annotatorPolitics annotatorRace  \\\n",
       "0  363A7XIFV4G2799C5V96YERJA9AVAM           liberal         white   \n",
       "1  363A7XIFV4G2799C5V96YERJA9AVAM       mod-liberal         white   \n",
       "2  363A7XIFV4G2799C5V96YERJA9AVAM           liberal         asian   \n",
       "3  3JTPR5MTZS6RLS3JBV4IOU0G2X35K5           liberal         white   \n",
       "4  3JTPR5MTZS6RLS3JBV4IOU0G2X35K5           liberal         white   \n",
       "\n",
       "   annotatorAge                                               post  \\\n",
       "0          45.0  RT @_LexC__: I'm convinced that some of y'all ...   \n",
       "1          35.0  RT @_LexC__: I'm convinced that some of y'all ...   \n",
       "2          23.0  RT @_LexC__: I'm convinced that some of y'all ...   \n",
       "3          25.0  RT @iBeZo: Stupid fucking nigger LeBron. You f...   \n",
       "4          25.0  RT @iBeZo: Stupid fucking nigger LeBron. You f...   \n",
       "\n",
       "  targetMinority targetCategory          targetStereotype  \n",
       "0            NaN            NaN                       NaN  \n",
       "1            NaN            NaN                       NaN  \n",
       "2            NaN            NaN                       NaN  \n",
       "3    black folks           race                all stupid  \n",
       "4    black folks           race  are not people but apes.  "
      ]
     },
     "execution_count": 22,
     "metadata": {},
     "output_type": "execute_result"
    }
   ],
   "source": [
    "# concatenate the datasets\n",
    "df_sbf = pd.concat([df_sbf_trn, df_sbf_dev], ignore_index=True)\n",
    "print(df_sbf.shape)\n",
    "df_sbf.head()"
   ]
  },
  {
   "cell_type": "code",
   "execution_count": 23,
   "metadata": {},
   "outputs": [
    {
     "data": {
      "text/plain": [
       "length    109.326239\n",
       "dtype: float64"
      ]
     },
     "execution_count": 23,
     "metadata": {},
     "output_type": "execute_result"
    }
   ],
   "source": [
    "# calculate the average length of the posts\n",
    "df_sbf['length'] = df_sbf['post'].apply(len)\n",
    "df_sbf.agg({'length': lambda x: x.mean()})"
   ]
  },
  {
   "cell_type": "code",
   "execution_count": 24,
   "metadata": {},
   "outputs": [
    {
     "data": {
      "image/png": "[encoded data removed]",
      "text/plain": [
       "<Figure size 576x432 with 1 Axes>"
      ]
     },
     "metadata": {
      "needs_background": "light"
     },
     "output_type": "display_data"
    }
   ],
   "source": [
    "title = 'SBF'\n",
    "plt.figure(figsize=(8, 6))\n",
    "plt.title('Distribution of the classes for {}'.format(title))\n",
    "plt.hist(df_sbf['offensiveYN'])\n",
    "plt.show()"
   ]
  },
  {
   "cell_type": "code",
   "execution_count": null,
   "metadata": {},
   "outputs": [],
   "source": []
  },
  {
   "cell_type": "markdown",
   "metadata": {},
   "source": [
    "## Get examples"
   ]
  },
  {
   "cell_type": "code",
   "execution_count": 25,
   "metadata": {},
   "outputs": [],
   "source": [
    "def filter_local_example(string, indexes=[]):\n",
    "    list_words = string.split(\" \")\n",
    "    #print(list_words)\n",
    "    for idx in indexes:\n",
    "        list_words[idx] = list_words[idx][0] + '*'*len(list_words[idx][1: -1]) + list_words[idx][-1]\n",
    "    #print(list_words)\n",
    "    return \" \".join(list_words)"
   ]
  },
  {
   "cell_type": "code",
   "execution_count": 26,
   "metadata": {},
   "outputs": [
    {
     "name": "stdout",
     "output_type": "stream",
     "text": [
      "1 Hate: @USER Someone should'veTaken\" this piece of s**t to a volcano. 😂\"\n",
      "1 Non-Hate: Amazon is investigating Chinese employees who are selling internal data to third\n",
      "\n",
      "2 Hate:   \" : jewish harvard professor noel ignatiev wants to abolish the white race via #wr \" \" \"\n",
      "2 Non-Hate:  b.higher education is a part of european culture  that was imported to other \n",
      "\n",
      "3 Hate: RT @iBeZo: Stupid fucking n****r LeBron. You flopping stupid jungle bunny monkey f*****.\n",
      "3 Non-Hate: @ConanOBrien dat is one ugly animal but da monkey is adorable.\n",
      "\n",
      "4 Hate: I'm losing my mind 😵 quarantine is making me mad. #Chinese d********s ate s**t infected \n",
      "4 Non-Hate: Are we still allowed to quote ancient Chinese proverbs, or is that racist? #RacismIsAVirus\n"
     ]
    }
   ],
   "source": [
    "print('1 Hate:', filter_local_example(df_offenseval.iloc[3]['tweet'], indexes=[6]))\n",
    "print('1 Non-Hate:', df_offenseval.iloc[2]['tweet'][:80])\n",
    "print()\n",
    "print('2 Hate:', df_stg1.iloc[0]['post'])\n",
    "print('2 Non-Hate:', df_stg1.iloc[1]['post'][:78])\n",
    "print()\n",
    "print('3 Hate:', filter_local_example(df_sbf.iloc[3]['post'], indexes=[4, 12]))\n",
    "print('3 Non-Hate:', df_sbf[df_sbf['offensiveYN'] == 0.0].iloc[15]['post'])\n",
    "print()\n",
    "print('4 Hate:', filter_local_example(covid_df.iloc[19]['Text'][:88], indexes=[11, 13]))\n",
    "print('4 Non-Hate:', covid_df.iloc[0]['Text'])"
   ]
  },
  {
   "cell_type": "code",
   "execution_count": null,
   "metadata": {},
   "outputs": [],
   "source": []
  }
 ],
 "metadata": {
  "interpreter": {
   "hash": "0ec2030db7bfae298aff43999c7d9f1264b161236d59f5acd9bdfb7ddab7d446"
  },
  "kernelspec": {
   "display_name": "Python 3 (ipykernel)",
   "language": "python",
   "name": "python3"
  },
  "language_info": {
   "codemirror_mode": {
    "name": "ipython",
    "version": 3
   },
   "file_extension": ".py",
   "mimetype": "text/x-python",
   "name": "python",
   "nbconvert_exporter": "python",
   "pygments_lexer": "ipython3",
   "version": "3.8.12"
  }
 },
 "nbformat": 4,
 "nbformat_minor": 2
}
