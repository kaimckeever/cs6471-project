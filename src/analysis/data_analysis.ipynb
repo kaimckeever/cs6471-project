{
 "cells": [
  {
   "cell_type": "code",
   "execution_count": 10,
   "metadata": {},
   "outputs": [],
   "source": [
    "import pandas as pd"
   ]
  },
  {
   "cell_type": "markdown",
   "metadata": {},
   "source": [
    "# Exploratory Data Analysis"
   ]
  },
  {
   "cell_type": "markdown",
   "metadata": {},
   "source": [
    "## Implicit Hate"
   ]
  },
  {
   "cell_type": "code",
   "execution_count": 28,
   "metadata": {},
   "outputs": [
    {
     "name": "stdout",
     "output_type": "stream",
     "text": [
      "(21480, 2)\n"
     ]
    },
    {
     "data": {
      "text/html": [
       "<div>\n",
       "<style scoped>\n",
       "    .dataframe tbody tr th:only-of-type {\n",
       "        vertical-align: middle;\n",
       "    }\n",
       "\n",
       "    .dataframe tbody tr th {\n",
       "        vertical-align: top;\n",
       "    }\n",
       "\n",
       "    .dataframe thead th {\n",
       "        text-align: right;\n",
       "    }\n",
       "</style>\n",
       "<table border=\"1\" class=\"dataframe\">\n",
       "  <thead>\n",
       "    <tr style=\"text-align: right;\">\n",
       "      <th></th>\n",
       "      <th>post</th>\n",
       "      <th>class</th>\n",
       "    </tr>\n",
       "  </thead>\n",
       "  <tbody>\n",
       "    <tr>\n",
       "      <th>0</th>\n",
       "      <td>\" : jewish harvard professor noel ignatiev w...</td>\n",
       "      <td>implicit_hate</td>\n",
       "    </tr>\n",
       "    <tr>\n",
       "      <th>1</th>\n",
       "      <td>b.higher education is a part of european cult...</td>\n",
       "      <td>not_hate</td>\n",
       "    </tr>\n",
       "    <tr>\n",
       "      <th>2</th>\n",
       "      <td>has a problem with  \" the whites \" \" and \" \" ...</td>\n",
       "      <td>not_hate</td>\n",
       "    </tr>\n",
       "    <tr>\n",
       "      <th>3</th>\n",
       "      <td>is yasir qadhi a hate preacher for calling ch...</td>\n",
       "      <td>not_hate</td>\n",
       "    </tr>\n",
       "    <tr>\n",
       "      <th>4</th>\n",
       "      <td>rt  \" : how three million germans mass murder...</td>\n",
       "      <td>not_hate</td>\n",
       "    </tr>\n",
       "  </tbody>\n",
       "</table>\n",
       "</div>"
      ],
      "text/plain": [
       "                                                post          class\n",
       "0    \" : jewish harvard professor noel ignatiev w...  implicit_hate\n",
       "1   b.higher education is a part of european cult...       not_hate\n",
       "2   has a problem with  \" the whites \" \" and \" \" ...       not_hate\n",
       "3   is yasir qadhi a hate preacher for calling ch...       not_hate\n",
       "4   rt  \" : how three million germans mass murder...       not_hate"
      ]
     },
     "execution_count": 28,
     "metadata": {},
     "output_type": "execute_result"
    }
   ],
   "source": [
    "df_stg1 = pd.read_csv('./../../data/original_datasets/implicit_hate_v1_stg1_posts.tsv', delimiter='\\t')\n",
    "print(df_stg1.shape)\n",
    "df_stg1.head()"
   ]
  },
  {
   "cell_type": "code",
   "execution_count": 12,
   "metadata": {},
   "outputs": [
    {
     "data": {
      "text/html": [
       "<div>\n",
       "<style scoped>\n",
       "    .dataframe tbody tr th:only-of-type {\n",
       "        vertical-align: middle;\n",
       "    }\n",
       "\n",
       "    .dataframe tbody tr th {\n",
       "        vertical-align: top;\n",
       "    }\n",
       "\n",
       "    .dataframe thead th {\n",
       "        text-align: right;\n",
       "    }\n",
       "</style>\n",
       "<table border=\"1\" class=\"dataframe\">\n",
       "  <thead>\n",
       "    <tr style=\"text-align: right;\">\n",
       "      <th></th>\n",
       "      <th>class</th>\n",
       "    </tr>\n",
       "  </thead>\n",
       "  <tbody>\n",
       "    <tr>\n",
       "      <th>not_hate</th>\n",
       "      <td>13291</td>\n",
       "    </tr>\n",
       "    <tr>\n",
       "      <th>implicit_hate</th>\n",
       "      <td>7100</td>\n",
       "    </tr>\n",
       "    <tr>\n",
       "      <th>explicit_hate</th>\n",
       "      <td>1089</td>\n",
       "    </tr>\n",
       "  </tbody>\n",
       "</table>\n",
       "</div>"
      ],
      "text/plain": [
       "               class\n",
       "not_hate       13291\n",
       "implicit_hate   7100\n",
       "explicit_hate   1089"
      ]
     },
     "execution_count": 12,
     "metadata": {},
     "output_type": "execute_result"
    }
   ],
   "source": [
    "df_stg1.agg({'class': lambda x: x.value_counts()})"
   ]
  },
  {
   "cell_type": "code",
   "execution_count": 21,
   "metadata": {},
   "outputs": [
    {
     "data": {
      "text/plain": [
       "length    89.446555\n",
       "dtype: float64"
      ]
     },
     "execution_count": 21,
     "metadata": {},
     "output_type": "execute_result"
    }
   ],
   "source": [
    "# calculate average post length\n",
    "df_stg1['length'] = df_stg1['post'].apply(len)\n",
    "df_stg1.agg({'length': lambda x: x.mean()})"
   ]
  },
  {
   "cell_type": "code",
   "execution_count": 13,
   "metadata": {},
   "outputs": [
    {
     "data": {
      "text/html": [
       "<div>\n",
       "<style scoped>\n",
       "    .dataframe tbody tr th:only-of-type {\n",
       "        vertical-align: middle;\n",
       "    }\n",
       "\n",
       "    .dataframe tbody tr th {\n",
       "        vertical-align: top;\n",
       "    }\n",
       "\n",
       "    .dataframe thead th {\n",
       "        text-align: right;\n",
       "    }\n",
       "</style>\n",
       "<table border=\"1\" class=\"dataframe\">\n",
       "  <thead>\n",
       "    <tr style=\"text-align: right;\">\n",
       "      <th></th>\n",
       "      <th>post</th>\n",
       "      <th>implicit_class</th>\n",
       "      <th>extra_implicit_class</th>\n",
       "    </tr>\n",
       "  </thead>\n",
       "  <tbody>\n",
       "    <tr>\n",
       "      <th>0</th>\n",
       "      <td>\" : jewish harvard professor noel ignatiev w...</td>\n",
       "      <td>white_grievance</td>\n",
       "      <td>NaN</td>\n",
       "    </tr>\n",
       "    <tr>\n",
       "      <th>1</th>\n",
       "      <td>rt : tune in today's jmt for my interview w /...</td>\n",
       "      <td>irony</td>\n",
       "      <td>NaN</td>\n",
       "    </tr>\n",
       "    <tr>\n",
       "      <th>2</th>\n",
       "      <td>: : hate posters ? you want hate buddy ? read ...</td>\n",
       "      <td>white_grievance</td>\n",
       "      <td>NaN</td>\n",
       "    </tr>\n",
       "    <tr>\n",
       "      <th>3</th>\n",
       "      <td>: hunt for white women : black racist serial k...</td>\n",
       "      <td>stereotypical</td>\n",
       "      <td>NaN</td>\n",
       "    </tr>\n",
       "    <tr>\n",
       "      <th>4</th>\n",
       "      <td>: looks like he was a fan of the islamic jew-h...</td>\n",
       "      <td>stereotypical</td>\n",
       "      <td>NaN</td>\n",
       "    </tr>\n",
       "  </tbody>\n",
       "</table>\n",
       "</div>"
      ],
      "text/plain": [
       "                                                post   implicit_class  \\\n",
       "0    \" : jewish harvard professor noel ignatiev w...  white_grievance   \n",
       "1   rt : tune in today's jmt for my interview w /...            irony   \n",
       "2  : : hate posters ? you want hate buddy ? read ...  white_grievance   \n",
       "3  : hunt for white women : black racist serial k...    stereotypical   \n",
       "4  : looks like he was a fan of the islamic jew-h...    stereotypical   \n",
       "\n",
       "  extra_implicit_class  \n",
       "0                  NaN  \n",
       "1                  NaN  \n",
       "2                  NaN  \n",
       "3                  NaN  \n",
       "4                  NaN  "
      ]
     },
     "execution_count": 13,
     "metadata": {},
     "output_type": "execute_result"
    }
   ],
   "source": [
    "df_stg2 = pd.read_csv('./../../data/original_datasets/implicit_hate_v1_stg2_posts.tsv', delimiter='\\t')\n",
    "df_stg2.head()"
   ]
  },
  {
   "cell_type": "code",
   "execution_count": 14,
   "metadata": {},
   "outputs": [
    {
     "data": {
      "text/html": [
       "<div>\n",
       "<style scoped>\n",
       "    .dataframe tbody tr th:only-of-type {\n",
       "        vertical-align: middle;\n",
       "    }\n",
       "\n",
       "    .dataframe tbody tr th {\n",
       "        vertical-align: top;\n",
       "    }\n",
       "\n",
       "    .dataframe thead th {\n",
       "        text-align: right;\n",
       "    }\n",
       "</style>\n",
       "<table border=\"1\" class=\"dataframe\">\n",
       "  <thead>\n",
       "    <tr style=\"text-align: right;\">\n",
       "      <th></th>\n",
       "      <th>implicit_class</th>\n",
       "    </tr>\n",
       "  </thead>\n",
       "  <tbody>\n",
       "    <tr>\n",
       "      <th>white_grievance</th>\n",
       "      <td>1538</td>\n",
       "    </tr>\n",
       "    <tr>\n",
       "      <th>incitement</th>\n",
       "      <td>1269</td>\n",
       "    </tr>\n",
       "    <tr>\n",
       "      <th>stereotypical</th>\n",
       "      <td>1133</td>\n",
       "    </tr>\n",
       "    <tr>\n",
       "      <th>inferiority</th>\n",
       "      <td>863</td>\n",
       "    </tr>\n",
       "    <tr>\n",
       "      <th>irony</th>\n",
       "      <td>797</td>\n",
       "    </tr>\n",
       "    <tr>\n",
       "      <th>threatening</th>\n",
       "      <td>666</td>\n",
       "    </tr>\n",
       "    <tr>\n",
       "      <th>other</th>\n",
       "      <td>80</td>\n",
       "    </tr>\n",
       "  </tbody>\n",
       "</table>\n",
       "</div>"
      ],
      "text/plain": [
       "                 implicit_class\n",
       "white_grievance            1538\n",
       "incitement                 1269\n",
       "stereotypical              1133\n",
       "inferiority                 863\n",
       "irony                       797\n",
       "threatening                 666\n",
       "other                        80"
      ]
     },
     "execution_count": 14,
     "metadata": {},
     "output_type": "execute_result"
    }
   ],
   "source": [
    "df_stg2.agg({'implicit_class': lambda x: x.value_counts()})"
   ]
  },
  {
   "cell_type": "code",
   "execution_count": 15,
   "metadata": {},
   "outputs": [
    {
     "data": {
      "text/html": [
       "<div>\n",
       "<style scoped>\n",
       "    .dataframe tbody tr th:only-of-type {\n",
       "        vertical-align: middle;\n",
       "    }\n",
       "\n",
       "    .dataframe tbody tr th {\n",
       "        vertical-align: top;\n",
       "    }\n",
       "\n",
       "    .dataframe thead th {\n",
       "        text-align: right;\n",
       "    }\n",
       "</style>\n",
       "<table border=\"1\" class=\"dataframe\">\n",
       "  <thead>\n",
       "    <tr style=\"text-align: right;\">\n",
       "      <th></th>\n",
       "      <th>extra_implicit_class</th>\n",
       "    </tr>\n",
       "  </thead>\n",
       "  <tbody>\n",
       "    <tr>\n",
       "      <th>inferiority</th>\n",
       "      <td>55</td>\n",
       "    </tr>\n",
       "    <tr>\n",
       "      <th>white_grievance</th>\n",
       "      <td>34</td>\n",
       "    </tr>\n",
       "    <tr>\n",
       "      <th>irony</th>\n",
       "      <td>12</td>\n",
       "    </tr>\n",
       "    <tr>\n",
       "      <th>stereotypical</th>\n",
       "      <td>12</td>\n",
       "    </tr>\n",
       "    <tr>\n",
       "      <th>incitement</th>\n",
       "      <td>11</td>\n",
       "    </tr>\n",
       "    <tr>\n",
       "      <th>threatening</th>\n",
       "      <td>6</td>\n",
       "    </tr>\n",
       "  </tbody>\n",
       "</table>\n",
       "</div>"
      ],
      "text/plain": [
       "                 extra_implicit_class\n",
       "inferiority                        55\n",
       "white_grievance                    34\n",
       "irony                              12\n",
       "stereotypical                      12\n",
       "incitement                         11\n",
       "threatening                         6"
      ]
     },
     "execution_count": 15,
     "metadata": {},
     "output_type": "execute_result"
    }
   ],
   "source": [
    "# aggregate additional implicit classes where not NaN\n",
    "df_stg2.agg({'extra_implicit_class': lambda x: x.value_counts()})"
   ]
  },
  {
   "cell_type": "code",
   "execution_count": 16,
   "metadata": {},
   "outputs": [
    {
     "data": {
      "text/html": [
       "<div>\n",
       "<style scoped>\n",
       "    .dataframe tbody tr th:only-of-type {\n",
       "        vertical-align: middle;\n",
       "    }\n",
       "\n",
       "    .dataframe tbody tr th {\n",
       "        vertical-align: top;\n",
       "    }\n",
       "\n",
       "    .dataframe thead th {\n",
       "        text-align: right;\n",
       "    }\n",
       "</style>\n",
       "<table border=\"1\" class=\"dataframe\">\n",
       "  <thead>\n",
       "    <tr style=\"text-align: right;\">\n",
       "      <th></th>\n",
       "      <th>post</th>\n",
       "      <th>target</th>\n",
       "      <th>implied_statement</th>\n",
       "    </tr>\n",
       "  </thead>\n",
       "  <tbody>\n",
       "    <tr>\n",
       "      <th>0</th>\n",
       "      <td>rt  \" white privilege \" \" is when the gun jam...</td>\n",
       "      <td>minority groups</td>\n",
       "      <td>people in minority groups are all in gangs</td>\n",
       "    </tr>\n",
       "    <tr>\n",
       "      <th>1</th>\n",
       "      <td>if you are white in that state watch yourself !</td>\n",
       "      <td>non-white people</td>\n",
       "      <td>non-white people are dangerous</td>\n",
       "    </tr>\n",
       "    <tr>\n",
       "      <th>2</th>\n",
       "      <td>so the 500 % increase in h1b visas ? yeah i'm ...</td>\n",
       "      <td>Immigrants</td>\n",
       "      <td>Immigrants are undesirable</td>\n",
       "    </tr>\n",
       "    <tr>\n",
       "      <th>3</th>\n",
       "      <td>rt antiwhites expose their hatred of white ki...</td>\n",
       "      <td>Anti-whites</td>\n",
       "      <td>Anti-whites hate white people</td>\n",
       "    </tr>\n",
       "    <tr>\n",
       "      <th>4</th>\n",
       "      <td>capitalism  like communism  is an enemy of the...</td>\n",
       "      <td>Capitalists</td>\n",
       "      <td>Capitalists don't like white people.</td>\n",
       "    </tr>\n",
       "  </tbody>\n",
       "</table>\n",
       "</div>"
      ],
      "text/plain": [
       "                                                post            target  \\\n",
       "0   rt  \" white privilege \" \" is when the gun jam...   minority groups   \n",
       "1    if you are white in that state watch yourself !  non-white people   \n",
       "2  so the 500 % increase in h1b visas ? yeah i'm ...        Immigrants   \n",
       "3   rt antiwhites expose their hatred of white ki...       Anti-whites   \n",
       "4  capitalism  like communism  is an enemy of the...       Capitalists   \n",
       "\n",
       "                            implied_statement  \n",
       "0  people in minority groups are all in gangs  \n",
       "1              non-white people are dangerous  \n",
       "2                  Immigrants are undesirable  \n",
       "3               Anti-whites hate white people  \n",
       "4        Capitalists don't like white people.  "
      ]
     },
     "execution_count": 16,
     "metadata": {},
     "output_type": "execute_result"
    }
   ],
   "source": [
    "df_stg3 = pd.read_csv('./../../data/original_datasets/implicit_hate_v1_stg3_posts.tsv', delimiter='\\t')\n",
    "df_stg3.head()"
   ]
  },
  {
   "cell_type": "code",
   "execution_count": 17,
   "metadata": {},
   "outputs": [
    {
     "data": {
      "text/html": [
       "<div>\n",
       "<style scoped>\n",
       "    .dataframe tbody tr th:only-of-type {\n",
       "        vertical-align: middle;\n",
       "    }\n",
       "\n",
       "    .dataframe tbody tr th {\n",
       "        vertical-align: top;\n",
       "    }\n",
       "\n",
       "    .dataframe thead th {\n",
       "        text-align: right;\n",
       "    }\n",
       "</style>\n",
       "<table border=\"1\" class=\"dataframe\">\n",
       "  <thead>\n",
       "    <tr style=\"text-align: right;\">\n",
       "      <th></th>\n",
       "      <th>target</th>\n",
       "    </tr>\n",
       "  </thead>\n",
       "  <tbody>\n",
       "    <tr>\n",
       "      <th>Minorities</th>\n",
       "      <td>732</td>\n",
       "    </tr>\n",
       "    <tr>\n",
       "      <th>Immigrants</th>\n",
       "      <td>653</td>\n",
       "    </tr>\n",
       "    <tr>\n",
       "      <th>white people</th>\n",
       "      <td>618</td>\n",
       "    </tr>\n",
       "    <tr>\n",
       "      <th>Muslims</th>\n",
       "      <td>574</td>\n",
       "    </tr>\n",
       "    <tr>\n",
       "      <th>Jews</th>\n",
       "      <td>436</td>\n",
       "    </tr>\n",
       "    <tr>\n",
       "      <th>...</th>\n",
       "      <td>...</td>\n",
       "    </tr>\n",
       "    <tr>\n",
       "      <th>Mexican nationalists</th>\n",
       "      <td>1</td>\n",
       "    </tr>\n",
       "    <tr>\n",
       "      <th>Indian journalists</th>\n",
       "      <td>1</td>\n",
       "    </tr>\n",
       "    <tr>\n",
       "      <th>catholics &amp; jews</th>\n",
       "      <td>1</td>\n",
       "    </tr>\n",
       "    <tr>\n",
       "      <th>Corporate leaders</th>\n",
       "      <td>1</td>\n",
       "    </tr>\n",
       "    <tr>\n",
       "      <th>white police</th>\n",
       "      <td>1</td>\n",
       "    </tr>\n",
       "  </tbody>\n",
       "</table>\n",
       "<p>673 rows × 1 columns</p>\n",
       "</div>"
      ],
      "text/plain": [
       "                      target\n",
       "Minorities               732\n",
       "Immigrants               653\n",
       "white people             618\n",
       "Muslims                  574\n",
       "Jews                     436\n",
       "...                      ...\n",
       "Mexican nationalists       1\n",
       "Indian journalists         1\n",
       "catholics & jews           1\n",
       "Corporate leaders          1\n",
       "white police               1\n",
       "\n",
       "[673 rows x 1 columns]"
      ]
     },
     "execution_count": 17,
     "metadata": {},
     "output_type": "execute_result"
    }
   ],
   "source": [
    "df_stg3.agg({'target': lambda x: x.value_counts()})"
   ]
  },
  {
   "cell_type": "markdown",
   "metadata": {},
   "source": [
    "## COVID Hate"
   ]
  },
  {
   "cell_type": "code",
   "execution_count": 31,
   "metadata": {},
   "outputs": [
    {
     "name": "stdout",
     "output_type": "stream",
     "text": [
      "(2290, 3)\n"
     ]
    },
    {
     "data": {
      "text/html": [
       "<div>\n",
       "<style scoped>\n",
       "    .dataframe tbody tr th:only-of-type {\n",
       "        vertical-align: middle;\n",
       "    }\n",
       "\n",
       "    .dataframe tbody tr th {\n",
       "        vertical-align: top;\n",
       "    }\n",
       "\n",
       "    .dataframe thead th {\n",
       "        text-align: right;\n",
       "    }\n",
       "</style>\n",
       "<table border=\"1\" class=\"dataframe\">\n",
       "  <thead>\n",
       "    <tr style=\"text-align: right;\">\n",
       "      <th></th>\n",
       "      <th>Tweet ID</th>\n",
       "      <th>Text</th>\n",
       "      <th>label</th>\n",
       "    </tr>\n",
       "  </thead>\n",
       "  <tbody>\n",
       "    <tr>\n",
       "      <th>0</th>\n",
       "      <td>1242553623260868608</td>\n",
       "      <td>Are we still allowed to quote ancient Chinese ...</td>\n",
       "      <td>0</td>\n",
       "    </tr>\n",
       "    <tr>\n",
       "      <th>1</th>\n",
       "      <td>1246508137638580225</td>\n",
       "      <td>@mamacat2u @VBeltiz More power to you!  This C...</td>\n",
       "      <td>0</td>\n",
       "    </tr>\n",
       "    <tr>\n",
       "      <th>2</th>\n",
       "      <td>1233468243534372865</td>\n",
       "      <td>CNBC: WHO, Tedros reiterated that the virus co...</td>\n",
       "      <td>0</td>\n",
       "    </tr>\n",
       "    <tr>\n",
       "      <th>3</th>\n",
       "      <td>1243626072387747841</td>\n",
       "      <td>\"The heightened racism experienced by Asian co...</td>\n",
       "      <td>1</td>\n",
       "    </tr>\n",
       "    <tr>\n",
       "      <th>4</th>\n",
       "      <td>1225611530978217989</td>\n",
       "      <td>Coronavirus and Nepali in China: KP Oli has di...</td>\n",
       "      <td>0</td>\n",
       "    </tr>\n",
       "  </tbody>\n",
       "</table>\n",
       "</div>"
      ],
      "text/plain": [
       "              Tweet ID                                               Text  \\\n",
       "0  1242553623260868608  Are we still allowed to quote ancient Chinese ...   \n",
       "1  1246508137638580225  @mamacat2u @VBeltiz More power to you!  This C...   \n",
       "2  1233468243534372865  CNBC: WHO, Tedros reiterated that the virus co...   \n",
       "3  1243626072387747841  \"The heightened racism experienced by Asian co...   \n",
       "4  1225611530978217989  Coronavirus and Nepali in China: KP Oli has di...   \n",
       "\n",
       "   label  \n",
       "0      0  \n",
       "1      0  \n",
       "2      0  \n",
       "3      1  \n",
       "4      0  "
      ]
     },
     "execution_count": 31,
     "metadata": {},
     "output_type": "execute_result"
    }
   ],
   "source": [
    "covid_df = pd.read_csv('./../../data/original_datasets/covid_hate.csv')\n",
    "print(covid_df.shape)\n",
    "covid_df.head()"
   ]
  },
  {
   "cell_type": "code",
   "execution_count": 32,
   "metadata": {},
   "outputs": [
    {
     "data": {
      "text/html": [
       "<div>\n",
       "<style scoped>\n",
       "    .dataframe tbody tr th:only-of-type {\n",
       "        vertical-align: middle;\n",
       "    }\n",
       "\n",
       "    .dataframe tbody tr th {\n",
       "        vertical-align: top;\n",
       "    }\n",
       "\n",
       "    .dataframe thead th {\n",
       "        text-align: right;\n",
       "    }\n",
       "</style>\n",
       "<table border=\"1\" class=\"dataframe\">\n",
       "  <thead>\n",
       "    <tr style=\"text-align: right;\">\n",
       "      <th></th>\n",
       "      <th>label</th>\n",
       "    </tr>\n",
       "  </thead>\n",
       "  <tbody>\n",
       "    <tr>\n",
       "      <th>not_hate</th>\n",
       "      <td>1344</td>\n",
       "    </tr>\n",
       "    <tr>\n",
       "      <th>counterhate</th>\n",
       "      <td>517</td>\n",
       "    </tr>\n",
       "    <tr>\n",
       "      <th>hate</th>\n",
       "      <td>429</td>\n",
       "    </tr>\n",
       "  </tbody>\n",
       "</table>\n",
       "</div>"
      ],
      "text/plain": [
       "             label\n",
       "not_hate      1344\n",
       "counterhate    517\n",
       "hate           429"
      ]
     },
     "execution_count": 32,
     "metadata": {},
     "output_type": "execute_result"
    }
   ],
   "source": [
    "covid_df['label'] = covid_df['label'].replace({0: 'not_hate', 1: 'counterhate', 2: 'hate'})\n",
    "covid_df.agg({'label': lambda x: x.value_counts()})"
   ]
  },
  {
   "cell_type": "code",
   "execution_count": 34,
   "metadata": {},
   "outputs": [
    {
     "data": {
      "text/plain": [
       "length    173.279476\n",
       "dtype: float64"
      ]
     },
     "execution_count": 34,
     "metadata": {},
     "output_type": "execute_result"
    }
   ],
   "source": [
    "# calculate average post length\n",
    "covid_df['length'] = covid_df['Text'].apply(len)\n",
    "covid_df.agg({'length': lambda x: x.mean()})"
   ]
  },
  {
   "cell_type": "markdown",
   "metadata": {},
   "source": [
    "# SBF"
   ]
  },
  {
   "cell_type": "code",
   "execution_count": 22,
   "metadata": {},
   "outputs": [],
   "source": [
    "# import SBF datasets SBFv2.dev.csv, SBFv2.trn.csv, SBFv2.tst.csv and concatenate them vertically\n",
    "df_sbf_dev = pd.read_csv('./../../data/original_datasets/SBFv2.dev.csv')\n",
    "df_sbf_trn = pd.read_csv('./../../data/original_datasets/SBFv2.trn.csv')\n",
    "df_sbf_tst = pd.read_csv('./../../data/original_datasets/SBFv2.tst.csv')"
   ]
  },
  {
   "cell_type": "code",
   "execution_count": 25,
   "metadata": {},
   "outputs": [
    {
     "name": "stdout",
     "output_type": "stream",
     "text": [
      "(147139, 18)\n"
     ]
    },
    {
     "data": {
      "text/html": [
       "<div>\n",
       "<style scoped>\n",
       "    .dataframe tbody tr th:only-of-type {\n",
       "        vertical-align: middle;\n",
       "    }\n",
       "\n",
       "    .dataframe tbody tr th {\n",
       "        vertical-align: top;\n",
       "    }\n",
       "\n",
       "    .dataframe thead th {\n",
       "        text-align: right;\n",
       "    }\n",
       "</style>\n",
       "<table border=\"1\" class=\"dataframe\">\n",
       "  <thead>\n",
       "    <tr style=\"text-align: right;\">\n",
       "      <th></th>\n",
       "      <th>whoTarget</th>\n",
       "      <th>intentYN</th>\n",
       "      <th>sexYN</th>\n",
       "      <th>sexReason</th>\n",
       "      <th>offensiveYN</th>\n",
       "      <th>annotatorGender</th>\n",
       "      <th>annotatorMinority</th>\n",
       "      <th>sexPhrase</th>\n",
       "      <th>speakerMinorityYN</th>\n",
       "      <th>WorkerId</th>\n",
       "      <th>HITId</th>\n",
       "      <th>annotatorPolitics</th>\n",
       "      <th>annotatorRace</th>\n",
       "      <th>annotatorAge</th>\n",
       "      <th>post</th>\n",
       "      <th>targetMinority</th>\n",
       "      <th>targetCategory</th>\n",
       "      <th>targetStereotype</th>\n",
       "    </tr>\n",
       "  </thead>\n",
       "  <tbody>\n",
       "    <tr>\n",
       "      <th>0</th>\n",
       "      <td>1.0</td>\n",
       "      <td>1.0</td>\n",
       "      <td>0.0</td>\n",
       "      <td>NaN</td>\n",
       "      <td>1.0</td>\n",
       "      <td>woman</td>\n",
       "      <td>NaN</td>\n",
       "      <td>NaN</td>\n",
       "      <td>0.0</td>\n",
       "      <td>2428559182657536645</td>\n",
       "      <td>3Z8UJEJOCZ74QHXOTFP0JOOGD7039J</td>\n",
       "      <td>liberal</td>\n",
       "      <td>white</td>\n",
       "      <td>29.0</td>\n",
       "      <td>Every half-breed cop in America is trying to r...</td>\n",
       "      <td>police officers</td>\n",
       "      <td>social</td>\n",
       "      <td>rape women</td>\n",
       "    </tr>\n",
       "    <tr>\n",
       "      <th>1</th>\n",
       "      <td>1.0</td>\n",
       "      <td>1.0</td>\n",
       "      <td>0.0</td>\n",
       "      <td>NaN</td>\n",
       "      <td>1.0</td>\n",
       "      <td>woman</td>\n",
       "      <td>NaN</td>\n",
       "      <td>NaN</td>\n",
       "      <td>0.0</td>\n",
       "      <td>2428559182657536645</td>\n",
       "      <td>3Z8UJEJOCZ74QHXOTFP0JOOGD7039J</td>\n",
       "      <td>liberal</td>\n",
       "      <td>white</td>\n",
       "      <td>29.0</td>\n",
       "      <td>Every half-breed cop in America is trying to r...</td>\n",
       "      <td>police officers</td>\n",
       "      <td>social</td>\n",
       "      <td>NaN</td>\n",
       "    </tr>\n",
       "    <tr>\n",
       "      <th>2</th>\n",
       "      <td>1.0</td>\n",
       "      <td>1.0</td>\n",
       "      <td>1.0</td>\n",
       "      <td>rape</td>\n",
       "      <td>1.0</td>\n",
       "      <td>woman</td>\n",
       "      <td>women</td>\n",
       "      <td>rape white women</td>\n",
       "      <td>0.0</td>\n",
       "      <td>7162172225567546910</td>\n",
       "      <td>3Z8UJEJOCZ74QHXOTFP0JOOGD7039J</td>\n",
       "      <td>liberal</td>\n",
       "      <td>white</td>\n",
       "      <td>27.0</td>\n",
       "      <td>Every half-breed cop in America is trying to r...</td>\n",
       "      <td>mixed folks</td>\n",
       "      <td>race</td>\n",
       "      <td>mixed folks are rapists.</td>\n",
       "    </tr>\n",
       "    <tr>\n",
       "      <th>3</th>\n",
       "      <td>1.0</td>\n",
       "      <td>1.0</td>\n",
       "      <td>1.0</td>\n",
       "      <td>rape</td>\n",
       "      <td>1.0</td>\n",
       "      <td>woman</td>\n",
       "      <td>women</td>\n",
       "      <td>rape white women</td>\n",
       "      <td>0.0</td>\n",
       "      <td>7162172225567546910</td>\n",
       "      <td>3Z8UJEJOCZ74QHXOTFP0JOOGD7039J</td>\n",
       "      <td>liberal</td>\n",
       "      <td>white</td>\n",
       "      <td>27.0</td>\n",
       "      <td>Every half-breed cop in America is trying to r...</td>\n",
       "      <td>mixed folks</td>\n",
       "      <td>race</td>\n",
       "      <td>mixed folks like white women.</td>\n",
       "    </tr>\n",
       "    <tr>\n",
       "      <th>4</th>\n",
       "      <td>1.0</td>\n",
       "      <td>1.0</td>\n",
       "      <td>1.0</td>\n",
       "      <td>rape</td>\n",
       "      <td>1.0</td>\n",
       "      <td>woman</td>\n",
       "      <td>women</td>\n",
       "      <td>rape white women</td>\n",
       "      <td>0.0</td>\n",
       "      <td>7162172225567546910</td>\n",
       "      <td>3Z8UJEJOCZ74QHXOTFP0JOOGD7039J</td>\n",
       "      <td>liberal</td>\n",
       "      <td>white</td>\n",
       "      <td>27.0</td>\n",
       "      <td>Every half-breed cop in America is trying to r...</td>\n",
       "      <td>cops</td>\n",
       "      <td>social</td>\n",
       "      <td>cops can't be trusted.</td>\n",
       "    </tr>\n",
       "  </tbody>\n",
       "</table>\n",
       "</div>"
      ],
      "text/plain": [
       "   whoTarget  intentYN  sexYN sexReason  offensiveYN annotatorGender  \\\n",
       "0        1.0       1.0    0.0       NaN          1.0           woman   \n",
       "1        1.0       1.0    0.0       NaN          1.0           woman   \n",
       "2        1.0       1.0    1.0      rape          1.0           woman   \n",
       "3        1.0       1.0    1.0      rape          1.0           woman   \n",
       "4        1.0       1.0    1.0      rape          1.0           woman   \n",
       "\n",
       "  annotatorMinority         sexPhrase  speakerMinorityYN             WorkerId  \\\n",
       "0               NaN               NaN                0.0  2428559182657536645   \n",
       "1               NaN               NaN                0.0  2428559182657536645   \n",
       "2             women  rape white women                0.0  7162172225567546910   \n",
       "3             women  rape white women                0.0  7162172225567546910   \n",
       "4             women  rape white women                0.0  7162172225567546910   \n",
       "\n",
       "                            HITId annotatorPolitics annotatorRace  \\\n",
       "0  3Z8UJEJOCZ74QHXOTFP0JOOGD7039J           liberal         white   \n",
       "1  3Z8UJEJOCZ74QHXOTFP0JOOGD7039J           liberal         white   \n",
       "2  3Z8UJEJOCZ74QHXOTFP0JOOGD7039J           liberal         white   \n",
       "3  3Z8UJEJOCZ74QHXOTFP0JOOGD7039J           liberal         white   \n",
       "4  3Z8UJEJOCZ74QHXOTFP0JOOGD7039J           liberal         white   \n",
       "\n",
       "   annotatorAge                                               post  \\\n",
       "0          29.0  Every half-breed cop in America is trying to r...   \n",
       "1          29.0  Every half-breed cop in America is trying to r...   \n",
       "2          27.0  Every half-breed cop in America is trying to r...   \n",
       "3          27.0  Every half-breed cop in America is trying to r...   \n",
       "4          27.0  Every half-breed cop in America is trying to r...   \n",
       "\n",
       "    targetMinority targetCategory               targetStereotype  \n",
       "0  police officers         social                     rape women  \n",
       "1  police officers         social                            NaN  \n",
       "2      mixed folks           race       mixed folks are rapists.  \n",
       "3      mixed folks           race  mixed folks like white women.  \n",
       "4             cops         social         cops can't be trusted.  "
      ]
     },
     "execution_count": 25,
     "metadata": {},
     "output_type": "execute_result"
    }
   ],
   "source": [
    "# concatenate the datasets\n",
    "df_sbf = pd.concat([df_sbf_dev, df_sbf_trn, df_sbf_tst], ignore_index=True)\n",
    "print(df_sbf.shape)\n",
    "df_sbf.head()"
   ]
  },
  {
   "cell_type": "code",
   "execution_count": 27,
   "metadata": {},
   "outputs": [
    {
     "data": {
      "text/plain": [
       "length    109.135715\n",
       "dtype: float64"
      ]
     },
     "execution_count": 27,
     "metadata": {},
     "output_type": "execute_result"
    }
   ],
   "source": [
    "# calculate the average length of the posts\n",
    "df_sbf['length'] = df_sbf['post'].apply(len)\n",
    "df_sbf.agg({'length': lambda x: x.mean()})"
   ]
  }
 ],
 "metadata": {
  "interpreter": {
   "hash": "0ec2030db7bfae298aff43999c7d9f1264b161236d59f5acd9bdfb7ddab7d446"
  },
  "kernelspec": {
   "display_name": "Python 3.8.12 ('cs6471')",
   "language": "python",
   "name": "python3"
  },
  "language_info": {
   "codemirror_mode": {
    "name": "ipython",
    "version": 3
   },
   "file_extension": ".py",
   "mimetype": "text/x-python",
   "name": "python",
   "nbconvert_exporter": "python",
   "pygments_lexer": "ipython3",
   "version": "3.8.12"
  },
  "orig_nbformat": 4
 },
 "nbformat": 4,
 "nbformat_minor": 2
}
