{
 "cells": [
  {
   "cell_type": "code",
   "execution_count": 2,
   "id": "0ee29ae7",
   "metadata": {},
   "outputs": [],
   "source": [
    "%load_ext autoreload\n",
    "%autoreload 2"
   ]
  },
  {
   "cell_type": "code",
   "execution_count": 3,
   "id": "436a4f66",
   "metadata": {},
   "outputs": [
    {
     "name": "stdout",
     "output_type": "stream",
     "text": [
      "Add root path to system path:  /Users/seemabaddam/Documents/Spring2022/CSS/cs6471-project-seema\n"
     ]
    }
   ],
   "source": [
    "import os\n",
    "import sys\n",
    "module_path = os.path.dirname(os.path.dirname(os.path.abspath(os.path.join('.'))))\n",
    "if module_path not in sys.path:\n",
    "    print('Add root path to system path: ', module_path)\n",
    "    sys.path.append(module_path)\n",
    "module_path += '/'"
   ]
  },
  {
   "cell_type": "code",
   "execution_count": 4,
   "id": "097bf1bb",
   "metadata": {},
   "outputs": [
    {
     "name": "stderr",
     "output_type": "stream",
     "text": [
      "[nltk_data] Downloading package stopwords to\n",
      "[nltk_data]     /Users/seemabaddam/nltk_data...\n",
      "[nltk_data]   Package stopwords is already up-to-date!\n"
     ]
    }
   ],
   "source": [
    "import pandas as pd\n",
    "from sklearn.model_selection import train_test_split\n",
    "from preprocess_utils import *"
   ]
  },
  {
   "cell_type": "code",
   "execution_count": 6,
   "id": "bc5d202a",
   "metadata": {},
   "outputs": [],
   "source": [
    "model_type = 'BasicLSTM'\n",
    "fix_length = None"
   ]
  },
  {
   "cell_type": "code",
   "execution_count": 5,
   "id": "ccc43f7c",
   "metadata": {},
   "outputs": [
    {
     "name": "stdout",
     "output_type": "stream",
     "text": [
      "field objects created\n",
      "fields and dataset object created\n",
      "vocabulary built..\n",
      "train_data 10592\n",
      "val_data 2648\n",
      "test_data 860\n",
      "CPU times: user 5.18 s, sys: 215 ms, total: 5.4 s\n",
      "Wall time: 6.46 s\n"
     ]
    }
   ],
   "source": [
    "%%time\n",
    "# Preprocessing Offenseval datasets\n",
    "train_dataset_name = 'offenseval'\n",
    "test_dataset_name = 'offenseval'\n",
    "field, tokenizer, train_data, val_data, test_data = get_datasets(train_dataset_name, test_dataset_name, model_type, fix_length, module_path=module_path)\n",
    "print('train_data', len(train_data))\n",
    "print('val_data', len(val_data))\n",
    "print('test_data', len(test_data))"
   ]
  },
  {
   "cell_type": "code",
   "execution_count": 7,
   "id": "10765348",
   "metadata": {},
   "outputs": [
    {
     "name": "stdout",
     "output_type": "stream",
     "text": [
      "error there is no message\n",
      "error there is no message\n",
      "error there is no message\n",
      "file loaded and formatted..\n",
      "data split into train/val/test\n"
     ]
    },
    {
     "data": {
      "text/plain": [
       "('/Users/seemabaddam/Documents/Spring2022/CSS/cs6471-project-seema/data/SBF_train.csv',\n",
       " '/Users/seemabaddam/Documents/Spring2022/CSS/cs6471-project-seema/data/SBF_val.csv',\n",
       " '/Users/seemabaddam/Documents/Spring2022/CSS/cs6471-project-seema/data/SBF_test.csv')"
      ]
     },
     "execution_count": 7,
     "metadata": {},
     "output_type": "execute_result"
    }
   ],
   "source": [
    "train_dataset_name = 'SBF'\n",
    "test_dataset_name = 'SBF'\n",
    "create_formatted_csvs(train_dataset_name, test_dataset_name, module_path=module_path)"
   ]
  },
  {
   "cell_type": "code",
   "execution_count": 8,
   "id": "672e9539",
   "metadata": {},
   "outputs": [
    {
     "name": "stdout",
     "output_type": "stream",
     "text": [
      "field objects created\n",
      "fields and dataset object created\n",
      "vocabulary built..\n",
      "train_data 82689\n",
      "val_data 20673\n",
      "test_data 14459\n",
      "CPU times: user 26.5 s, sys: 707 ms, total: 27.2 s\n",
      "Wall time: 32.7 s\n"
     ]
    }
   ],
   "source": [
    "%%time\n",
    "# Preprocessing SBF datasets\n",
    "field, tokenizer, train_data, val_data, test_data = get_datasets(train_dataset_name, test_dataset_name, model_type, fix_length, module_path=module_path)\n",
    "print('train_data', len(train_data))\n",
    "print('val_data', len(val_data))\n",
    "print('test_data', len(test_data))"
   ]
  },
  {
   "cell_type": "code",
   "execution_count": 10,
   "id": "03d3d5ed",
   "metadata": {},
   "outputs": [
    {
     "name": "stdout",
     "output_type": "stream",
     "text": [
      "file loaded and formatted..\n",
      "data split into train/val/test\n",
      "field objects created\n",
      "fields and dataset object created\n",
      "vocabulary built..\n",
      "train_data 13734\n",
      "val_data 3434\n",
      "test_data 4291\n",
      "Wall time: 20.3 s\n"
     ]
    }
   ],
   "source": [
    "%%time\n",
    "# Preprocessing Implicithate datasets\n",
    "train_dataset_name = 'implicithate'\n",
    "test_dataset_name = 'implicithate'\n",
    "field, tokenizer, train_data, val_data, test_data = get_datasets(train_dataset_name, test_dataset_name, model_type, fix_length, module_path=module_path)\n",
    "print('train_data', len(train_data))\n",
    "print('val_data', len(val_data))\n",
    "print('test_data', len(test_data))"
   ]
  },
  {
   "cell_type": "code",
   "execution_count": null,
   "id": "82f68a68",
   "metadata": {},
   "outputs": [],
   "source": []
  },
  {
   "cell_type": "code",
   "execution_count": null,
   "id": "5372be8e",
   "metadata": {},
   "outputs": [],
   "source": []
  },
  {
   "cell_type": "code",
   "execution_count": null,
   "id": "eba080bf",
   "metadata": {},
   "outputs": [],
   "source": []
  },
  {
   "cell_type": "code",
   "execution_count": null,
   "id": "85f1396b",
   "metadata": {},
   "outputs": [],
   "source": []
  }
 ],
 "metadata": {
  "kernelspec": {
   "display_name": "Python 3",
   "language": "python",
   "name": "python3"
  },
  "language_info": {
   "codemirror_mode": {
    "name": "ipython",
    "version": 3
   },
   "file_extension": ".py",
   "mimetype": "text/x-python",
   "name": "python",
   "nbconvert_exporter": "python",
   "pygments_lexer": "ipython3",
   "version": "3.8.8"
  }
 },
 "nbformat": 4,
 "nbformat_minor": 5
}
