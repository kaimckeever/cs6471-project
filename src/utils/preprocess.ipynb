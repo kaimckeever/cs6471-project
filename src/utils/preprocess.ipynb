{
 "cells": [
  {
   "cell_type": "code",
   "execution_count": 1,
   "id": "0ee29ae7",
   "metadata": {},
   "outputs": [],
   "source": [
    "%load_ext autoreload\n",
    "%autoreload 2"
   ]
  },
  {
   "cell_type": "code",
   "execution_count": null,
   "id": "436a4f66",
   "metadata": {},
   "outputs": [],
   "source": [
    "import os\n",
    "import sys\n",
    "module_path = os.path.dirname(os.path.dirname(os.path.abspath(os.path.join('.'))))\n",
    "if module_path not in sys.path:\n",
    "    print('Add root path to system path: ', module_path)\n",
    "    sys.path.append(module_path)\n",
    "module_path += '/'"
   ]
  },
  {
   "cell_type": "code",
   "execution_count": null,
   "id": "097bf1bb",
   "metadata": {},
   "outputs": [],
   "source": [
    "import pandas as pd\n",
    "from sklearn.model_selection import train_test_split\n",
    "from preprocess_utils import *"
   ]
  },
  {
   "cell_type": "code",
   "execution_count": 5,
   "id": "ccc43f7c",
   "metadata": {},
   "outputs": [
    {
     "name": "stdout",
     "output_type": "stream",
     "text": [
      "file loaded and formatted..\n",
      "data split into train/val/test\n",
      "field objects created\n",
      "fields and dataset object created\n",
      "vocabulary built..\n"
     ]
    }
   ],
   "source": [
    "# Preprocessing Offenseval datasets\n",
    "training_data =\"data/training_data/offenseval-training-v1.tsv\"\n",
    "testset_data =\"data/test_data/testset-levela.tsv\"\n",
    "test_labels_data =\"data/test_data/labels-levela.csv\"\n",
    "field, tokenizer, train_data, val_data, test_data = get_datasets(training_data, testset_data, test_labels_data, 'BasicLSTM', module_path=module_path, dataset_name = 'offenseval')"
   ]
  },
  {
   "cell_type": "code",
   "execution_count": 6,
   "id": "672e9539",
   "metadata": {},
   "outputs": [
    {
     "name": "stdout",
     "output_type": "stream",
     "text": [
      "file loaded and formatted..\n",
      "data split into train/val/test\n",
      "field objects created\n",
      "fields and dataset object created\n",
      "vocabulary built..\n"
     ]
    }
   ],
   "source": [
    "# Preprocessing SBF datasets\n",
    "training_data =\"data/training_data/SBFv2.trn.csv\"\n",
    "testset_data =\"data/test_data/SBFv2.tst.csv\"\n",
    "test_labels_data =\"data/training_data/SBFv2.dev.csv\"\n",
    "field, tokenizer, train_data, val_data, test_data = get_datasets(training_data, testset_data, test_labels_data, 'BasicLSTM', module_path=module_path, dataset_name = 'SBF')"
   ]
  },
  {
   "cell_type": "code",
   "execution_count": 7,
   "id": "03d3d5ed",
   "metadata": {},
   "outputs": [
    {
     "name": "stdout",
     "output_type": "stream",
     "text": [
      "file loaded and formatted..\n",
      "data split into train/val/test\n",
      "field objects created\n",
      "fields and dataset object created\n",
      "vocabulary built..\n"
     ]
    }
   ],
   "source": [
    "# Preprocessing Implicithate datasets\n",
    "training_data =\"data/training_data/implicit_hate_v1_stg1_posts_training.tsv\"\n",
    "testset_data =\"data/test_data/implicit_hate_v1_stg1_posts_test.tsv\"\n",
    "test_labels_data =\"\"\n",
    "field, tokenizer, train_data, val_data, test_data = get_datasets(training_data, testset_data, test_labels_data, 'BasicLSTM', module_path=module_path, dataset_name = 'implicithate')"
   ]
  },
  {
   "cell_type": "code",
   "execution_count": null,
   "id": "82f68a68",
   "metadata": {},
   "outputs": [],
   "source": []
  },
  {
   "cell_type": "code",
   "execution_count": null,
   "id": "5372be8e",
   "metadata": {},
   "outputs": [],
   "source": []
  },
  {
   "cell_type": "code",
   "execution_count": null,
   "id": "eba080bf",
   "metadata": {},
   "outputs": [],
   "source": []
  },
  {
   "cell_type": "code",
   "execution_count": null,
   "id": "85f1396b",
   "metadata": {},
   "outputs": [],
   "source": []
  }
 ],
 "metadata": {
  "kernelspec": {
   "display_name": "Python 3",
   "language": "python",
   "name": "python3"
  },
  "language_info": {
   "codemirror_mode": {
    "name": "ipython",
    "version": 3
   },
   "file_extension": ".py",
   "mimetype": "text/x-python",
   "name": "python",
   "nbconvert_exporter": "python",
   "pygments_lexer": "ipython3",
   "version": "3.8.8"
  }
 },
 "nbformat": 4,
 "nbformat_minor": 5
}
