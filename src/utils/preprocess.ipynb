{
 "cells": [
  {
   "cell_type": "code",
   "execution_count": null,
   "id": "0ee29ae7",
   "metadata": {},
   "outputs": [],
   "source": [
    "%load_ext autoreload\n",
    "%autoreload 2"
   ]
  },
  {
   "cell_type": "code",
   "execution_count": null,
   "id": "436a4f66",
   "metadata": {},
   "outputs": [],
   "source": [
    "import os\n",
    "import sys\n",
    "module_path = os.path.dirname(os.path.dirname(os.path.abspath(os.path.join('.'))))\n",
    "if module_path not in sys.path:\n",
    "    print('Add root path to system path: ', module_path)\n",
    "    sys.path.append(module_path)\n",
    "module_path += '/'"
   ]
  },
  {
   "cell_type": "code",
   "execution_count": null,
   "id": "097bf1bb",
   "metadata": {},
   "outputs": [],
   "source": [
    "import pandas as pd\n",
    "from sklearn.model_selection import train_test_split\n",
    "from preprocess_utils import *"
   ]
  },
  {
   "cell_type": "code",
   "execution_count": null,
   "id": "bc5d202a",
   "metadata": {},
   "outputs": [],
   "source": [
    "model_type = 'BasicLSTM'\n",
    "fix_length = None"
   ]
  },
  {
   "cell_type": "code",
   "execution_count": null,
   "id": "ccc43f7c",
   "metadata": {},
   "outputs": [],
   "source": [
    "%%time\n",
    "# Preprocessing Offenseval datasets\n",
    "train_dataset_name = 'offenseval'\n",
    "test_dataset_name = 'offenseval'\n",
    "field, tokenizer, train_data, val_data, test_data = get_datasets(train_dataset_name, test_dataset_name, model_type, fix_length, module_path=module_path)\n",
    "print('train_data', len(train_data))\n",
    "print('val_data', len(val_data))\n",
    "print('test_data', len(test_data))"
   ]
  },
  {
   "cell_type": "code",
   "execution_count": null,
   "id": "10765348",
   "metadata": {},
   "outputs": [],
   "source": [
    "train_dataset_name = 'SBF'\n",
    "test_dataset_name = 'SBF'\n",
    "create_formatted_csvs(train_dataset_name, test_dataset_name, module_path=module_path)"
   ]
  },
  {
   "cell_type": "code",
   "execution_count": null,
   "id": "672e9539",
   "metadata": {},
   "outputs": [],
   "source": [
    "%%time\n",
    "# Preprocessing SBF datasets\n",
    "field, tokenizer, train_data, val_data, test_data = get_datasets(train_dataset_name, test_dataset_name, model_type, fix_length, module_path=module_path)\n",
    "print('train_data', len(train_data))\n",
    "print('val_data', len(val_data))\n",
    "print('test_data', len(test_data))"
   ]
  },
  {
   "cell_type": "code",
   "execution_count": null,
   "id": "03d3d5ed",
   "metadata": {},
   "outputs": [],
   "source": [
    "%%time\n",
    "# Preprocessing Implicithate datasets\n",
    "train_dataset_name = 'implicithate'\n",
    "test_dataset_name = 'implicithate'\n",
    "field, tokenizer, train_data, val_data, test_data = get_datasets(train_dataset_name, test_dataset_name, model_type, fix_length, module_path=module_path)\n",
    "print('train_data', len(train_data))\n",
    "print('val_data', len(val_data))\n",
    "print('test_data', len(test_data))"
   ]
  },
  {
   "cell_type": "code",
   "execution_count": null,
   "id": "c2bd241e",
   "metadata": {},
   "outputs": [],
   "source": [
    "train_dataset_name = 'covidhate'\n",
    "test_dataset_name = 'covidhate'\n",
    "create_formatted_csvs(train_dataset_name, test_dataset_name, module_path=module_path)"
   ]
  },
  {
   "cell_type": "code",
   "execution_count": null,
   "id": "82f68a68",
   "metadata": {},
   "outputs": [],
   "source": [
    "%%time\n",
    "# Preprocessing covidhate datasets\n",
    "field, tokenizer, train_data, val_data, test_data = get_datasets(train_dataset_name, test_dataset_name, model_type, fix_length, module_path=module_path)\n",
    "print('train_data', len(train_data))\n",
    "print('val_data', len(val_data))\n",
    "print('test_data', len(test_data))"
   ]
  },
  {
   "cell_type": "code",
   "execution_count": null,
   "id": "5372be8e",
   "metadata": {},
   "outputs": [],
   "source": []
  },
  {
   "cell_type": "code",
   "execution_count": null,
   "id": "eba080bf",
   "metadata": {},
   "outputs": [],
   "source": []
  },
  {
   "cell_type": "code",
   "execution_count": null,
   "id": "85f1396b",
   "metadata": {},
   "outputs": [],
   "source": []
  }
 ],
 "metadata": {
  "kernelspec": {
   "display_name": "Python 3",
   "language": "python",
   "name": "python3"
  },
  "language_info": {
   "codemirror_mode": {
    "name": "ipython",
    "version": 3
   },
   "file_extension": ".py",
   "mimetype": "text/x-python",
   "name": "python",
   "nbconvert_exporter": "python",
   "pygments_lexer": "ipython3",
   "version": "3.8.12"
  }
 },
 "nbformat": 4,
 "nbformat_minor": 5
}
