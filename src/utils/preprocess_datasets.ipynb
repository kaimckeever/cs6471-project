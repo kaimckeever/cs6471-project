{
 "cells": [
  {
   "cell_type": "code",
   "execution_count": null,
   "id": "3fdaa78e",
   "metadata": {},
   "outputs": [],
   "source": [
    "%load_ext autoreload\n",
    "%autoreload 2"
   ]
  },
  {
   "cell_type": "code",
   "execution_count": null,
   "id": "d7452603",
   "metadata": {},
   "outputs": [],
   "source": [
    "import os\n",
    "import sys\n",
    "module_path = os.path.dirname(os.path.dirname(os.path.abspath(os.path.join('.'))))\n",
    "if module_path not in sys.path:\n",
    "    print('Add root path to system path: ', module_path)\n",
    "    sys.path.append(module_path)\n",
    "module_path += '/'"
   ]
  },
  {
   "cell_type": "code",
   "execution_count": null,
   "id": "a7276365",
   "metadata": {},
   "outputs": [],
   "source": [
    "import pandas as pd\n",
    "from sklearn.model_selection import train_test_split"
   ]
  },
  {
   "cell_type": "code",
   "execution_count": null,
   "id": "4e4075c3",
   "metadata": {},
   "outputs": [],
   "source": [
    "path_original_datasets = \"./../../data/original_datasets/\""
   ]
  },
  {
   "cell_type": "markdown",
   "id": "0d98aa3f",
   "metadata": {},
   "source": [
    "### Implicit Hate dataset preprocessing"
   ]
  },
  {
   "cell_type": "code",
   "execution_count": null,
   "id": "cc90f062",
   "metadata": {},
   "outputs": [],
   "source": [
    "filename = \"implicit_hate_v1_stg1_posts.tsv\"\n",
    "path_filename = path_original_datasets+filename\n",
    "training_filename = filename[:-4]+\"_training.tsv\"\n",
    "test_filename = filename[:-4]+\"_test.tsv\""
   ]
  },
  {
   "cell_type": "code",
   "execution_count": null,
   "id": "edf9c1fd",
   "metadata": {},
   "outputs": [],
   "source": [
    "df = pd.read_csv(path_filename, delimiter='\\t')\n",
    "df.head()"
   ]
  },
  {
   "cell_type": "code",
   "execution_count": null,
   "id": "a7206daa",
   "metadata": {},
   "outputs": [],
   "source": [
    "test_size = 0.2\n",
    "training_df, test_df = train_test_split(df, test_size=test_size, random_state=42)\n",
    "\n",
    "# Keep original id\n",
    "training_df['original_id'] = training_df.index\n",
    "test_df['original_id'] = test_df.index\n",
    "\n",
    "# Reset index\n",
    "training_df = training_df.reset_index(drop=True)\n",
    "test_df = test_df.reset_index(drop=True)\n",
    "\n",
    "print('training_df', training_df.shape)\n",
    "print('test_df', test_df.shape)"
   ]
  },
  {
   "cell_type": "code",
   "execution_count": null,
   "id": "e3c81e2f",
   "metadata": {},
   "outputs": [],
   "source": [
    "training_df.to_csv('./../../data/training_data/' + training_filename, sep=\"\\t\")\n",
    "test_df.to_csv('./../../data/test_data/' + test_filename, sep=\"\\t\")"
   ]
  },
  {
   "cell_type": "code",
   "execution_count": null,
   "id": "79ae1574",
   "metadata": {},
   "outputs": [],
   "source": [
    "# Reload to check format\n",
    "training_df = pd.read_csv('./../../data/training_data/' + training_filename, delimiter='\\t', index_col=[0])\n",
    "training_df.head()"
   ]
  },
  {
   "cell_type": "code",
   "execution_count": null,
   "id": "0c4de2d1",
   "metadata": {},
   "outputs": [],
   "source": []
  },
  {
   "cell_type": "markdown",
   "id": "57f1bd0d",
   "metadata": {},
   "source": [
    "### SBF dataset preprocessing"
   ]
  },
  {
   "cell_type": "code",
   "execution_count": null,
   "id": "9dfef1ce",
   "metadata": {},
   "outputs": [],
   "source": [
    "filename = \"SBFv2\"\n",
    "filename_train = filename+\".trn.csv\"\n",
    "path_filename_train = path_original_datasets+filename_train\n",
    "filename_val = filename+\".dev.csv\"\n",
    "path_filename_val = path_original_datasets+filename_val\n",
    "filename_test = filename+\".tst.csv\"\n",
    "path_filename_test = path_original_datasets+filename_test\n",
    "\n",
    "training_filename = filename+\"_training.tsv\"\n",
    "test_filename = filename+\"_test.tsv\""
   ]
  },
  {
   "cell_type": "code",
   "execution_count": null,
   "id": "30c70d50",
   "metadata": {},
   "outputs": [],
   "source": [
    "df_train = pd.read_csv(path_filename_train)\n",
    "print(df_train.shape)\n",
    "df_train.head()"
   ]
  },
  {
   "cell_type": "code",
   "execution_count": null,
   "id": "c1d2b9c7",
   "metadata": {},
   "outputs": [],
   "source": [
    "df_val = pd.read_csv(path_filename_val)\n",
    "print(df_val.shape)\n",
    "df_val.head()"
   ]
  },
  {
   "cell_type": "code",
   "execution_count": null,
   "id": "9b3b6006",
   "metadata": {},
   "outputs": [],
   "source": [
    "df_test = pd.read_csv(path_filename_test)\n",
    "print(df_test.shape)\n",
    "df_test.head()"
   ]
  },
  {
   "cell_type": "code",
   "execution_count": null,
   "id": "59ea4775",
   "metadata": {},
   "outputs": [],
   "source": []
  },
  {
   "cell_type": "code",
   "execution_count": null,
   "id": "8672df92",
   "metadata": {},
   "outputs": [],
   "source": [
    "df_train['source'] = 'train'\n",
    "df_val['source'] = 'val'\n",
    "training_df = pd.concat([df_train, df_val])\n",
    "test_df = df_test\n",
    "\n",
    "# Keep original id\n",
    "training_df['original_id'] = training_df.index\n",
    "test_df['original_id'] = test_df.index\n",
    "\n",
    "# Reset index\n",
    "training_df = training_df.reset_index(drop=True)\n",
    "test_df = test_df.reset_index(drop=True)\n",
    "\n",
    "print('training_df', training_df.shape)\n",
    "print('test_df', test_df.shape)"
   ]
  },
  {
   "cell_type": "code",
   "execution_count": null,
   "id": "570f5fa1",
   "metadata": {},
   "outputs": [],
   "source": [
    "training_df.to_csv('./../../data/training_data/' + training_filename, sep=\"\\t\")\n",
    "test_df.to_csv('./../../data/test_data/' + test_filename, sep=\"\\t\")"
   ]
  },
  {
   "cell_type": "code",
   "execution_count": null,
   "id": "dc87bbf5",
   "metadata": {},
   "outputs": [],
   "source": [
    "# Reload to check format\n",
    "training_df = pd.read_csv('./../../data/training_data/' + training_filename, delimiter='\\t', index_col=[0])\n",
    "print(training_df.shape)\n",
    "training_df.head()"
   ]
  },
  {
   "cell_type": "code",
   "execution_count": null,
   "id": "46557ca8",
   "metadata": {},
   "outputs": [],
   "source": []
  },
  {
   "cell_type": "markdown",
   "id": "fcec81d8",
   "metadata": {},
   "source": [
    "## COVID Hate"
   ]
  },
  {
   "cell_type": "code",
   "execution_count": null,
   "id": "ec588f88",
   "metadata": {},
   "outputs": [],
   "source": [
    "filename = \"covid_hate.csv\"\n",
    "path_filename = path_original_datasets+filename\n",
    "training_filename = filename[:-4]+\"_training.tsv\"\n",
    "test_filename = filename[:-4]+\"_test.tsv\""
   ]
  },
  {
   "cell_type": "code",
   "execution_count": null,
   "id": "1e4c3243",
   "metadata": {},
   "outputs": [],
   "source": [
    "covid_df = pd.read_csv(path_filename)\n",
    "covid_df.head()"
   ]
  },
  {
   "cell_type": "code",
   "execution_count": null,
   "id": "c132ec46",
   "metadata": {},
   "outputs": [],
   "source": [
    "# change column names\n",
    "# label to class\n",
    "# Text to post\n",
    "# Tweet ID to original_id\n",
    "covid_df = covid_df.rename(columns={'label':'class', 'Text':'post', 'Tweet ID':'original_id'})\n",
    "# move columns so that original_id is the last column\n",
    "covid_df = covid_df[['post', 'class', 'original_id']]\n",
    "covid_df.head()"
   ]
  },
  {
   "cell_type": "code",
   "execution_count": null,
   "id": "95350212",
   "metadata": {},
   "outputs": [],
   "source": [
    "test_size = 0.2\n",
    "training_df, test_df = train_test_split(covid_df, test_size=test_size, random_state=42)\n",
    "\n",
    "# Reset index\n",
    "training_df = training_df.reset_index(drop=True)\n",
    "test_df = test_df.reset_index(drop=True)\n",
    "\n",
    "print('training_df', training_df.shape)\n",
    "print('test_df', test_df.shape)"
   ]
  },
  {
   "cell_type": "code",
   "execution_count": null,
   "id": "a3e63be2",
   "metadata": {},
   "outputs": [],
   "source": [
    "training_df.to_csv('./../../data/training_data/' + training_filename, sep=\"\\t\")\n",
    "test_df.to_csv('./../../data/test_data/' + test_filename, sep=\"\\t\")"
   ]
  },
  {
   "cell_type": "code",
   "execution_count": null,
   "id": "8a505806",
   "metadata": {},
   "outputs": [],
   "source": [
    "# Reload to check format\n",
    "training_df = pd.read_csv('./../../data/training_data/' + training_filename, delimiter='\\t', index_col=[0])\n",
    "print(training_df.shape)\n",
    "training_df.head()"
   ]
  }
 ],
 "metadata": {
  "kernelspec": {
   "display_name": "Python 3 (ipykernel)",
   "language": "python",
   "name": "python3"
  },
  "language_info": {
   "codemirror_mode": {
    "name": "ipython",
    "version": 3
   },
   "file_extension": ".py",
   "mimetype": "text/x-python",
   "name": "python",
   "nbconvert_exporter": "python",
   "pygments_lexer": "ipython3",
   "version": "3.8.12"
  }
 },
 "nbformat": 4,
 "nbformat_minor": 5
}
